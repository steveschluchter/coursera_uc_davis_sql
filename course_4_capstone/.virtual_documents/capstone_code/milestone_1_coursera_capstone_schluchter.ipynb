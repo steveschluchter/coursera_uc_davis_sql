





from IPython import display

display.Image('./tweet.png')



display.Image('./user.png')


from pyspark.sql import SparkSession
spark = SparkSession.builder.appName("Steve's congressional tweet session")\
                            .config("spark.driver.memory", "5g")\
                            .config("spark.driver.cores", '4')\
                            .getOrCreate()


tweets_df = spark.read.json('../capstone_data/tweets.json')
users_df = spark.read.json('../capstone_data/users.json')


tweets_df.show(10)


display('contributors')
tweets_df.select("contributors").distinct().show(truncate=False)
display('coordinates')
tweets_df.select('coordinates').distinct().show(truncate=False)
display('entities')
tweets_df.select("entities").distinct().show(truncate=False)
display('extended_entities')
tweets_df.select(['extended_entities']).distinct().show(truncate=False)
display('favorite_count')
tweets_df.select(['favorite_count']).distinct().show(truncate=False)
display('favorited')
tweets_df.select(['favorited']).distinct().show(truncate=False)
display('in_reply_to_screen_name')
tweets_df.select(['in_reply_to_screen_name']).distinct().show(truncate=False)
display('in_reply_to_status_id')
tweets_df.select('in_reply_to_status_id').distinct().show(truncate=False)
display('in_reply_to_user_id')
tweets_df.select('in_reply_to_user_id').distinct().show(truncate=False)
display('is_quote_status')
tweets_df.select('is_quote_status').distinct().show(truncate=False)
display('lang')
tweets_df.select('lang').distinct().show(truncate=False)
display('place')
tweets_df.select('place').distinct().show(truncate=False)
display('retweet_count')
tweets_df.select('retweet_count').distinct().show()
display('retweeted')
tweets_df.select('retweeted').distinct().show(truncate=False)
display('screenname')
tweets_df.select('screen_name').distinct().show(truncate=False)
display('source')
tweets_df.select('source').distinct().show(truncate=False)
display('withheld_copyright')
tweets_df.select('withheld_copyright').distinct().show(truncate=False)
display('withheld_in_countries')
tweets_df.select('withheld_in_countries').distinct().show(truncate=False)
display('withheld_scope')
tweets_df.select('withheld_scope').distinct().show(truncate=False)
display('text')
tweets_df.select('text').show(truncate=False)


tweets_df = tweets_df.select(['favorite_count', 'id', 'in_reply_to_screen_name', 'in_reply_to_status_id', 'in_reply_to_user_id', \
'quoted_status_id','retweet_count','screen_name','text', 'user_id'])


import pandas as pd

tweets_pd_df = tweets_df.toPandas()


import re

hashtags = []
handles = []

for tweet in tweets_pd_df['text']:
    hashtags.append([x.group() for x in re.finditer( r'#\w+', tweet)])
    handles.append([x.group() for x in re.finditer( r'@\w+', tweet)])

tweets_pd_df['hashtags'] = hashtags
tweets_pd_df['handles'] = handles
    


tweets_pd_df.info()
tweets_pd_df.head(10)




"""
display('contributors enables')
users_df.select('contributors_enabled').distinct().show(truncate=False)
display('default profile')
users_df.select('default_profile').distinct().show(truncate=False)
display('description')
users_df.select('description').distinct().show(truncate=False)
display('entities')
users_df.select('entities').distinct().show(truncate=False)
display('follow_request_sent')
users_df.select('follow_request_sent').distinct().show(truncate=False)
display('following')
users_df.select('following').distinct().show(truncate=False)
display('is translation enabled')
users_df.select('is_translation_enabled').distinct().show(truncate=False)
display('is translator')
users_df.select('is_translator').distinct().show(truncate=False)
display('lang')
users_df.select('lang').distinct().show(truncate=False)
display('url')
users_df.select('url').show(10, truncate=False)
display('verified')
users_df.select('verified').distinct().show(10, truncate=False)

users_df.show(10)
"""

users_df = users_df.select(['description', 'following', 'followers_count', 'friends_count', 'id','listed_count','screen_name','statuses_count', 'verified'])
users_pd_df = users_df.toPandas()
users_pd_df.info()




import inspect
import rich.syntax

import erdantic.examples.attrs


rich.syntax.Syntax(
    inspect.getsource(erdantic.examples.attrs), 
    "python",
    theme="default",
    line_numbers=True
)


                                                                                                               
from dataclasses import dataclass, field                                                                      
from datetime import datetime                                                                                 
from enum import Enum                                                                                         
from typing import List, Optional                                                                             
                                                                                                               
                                                                                                                  
class Alignment(str, Enum):                                                                                   
    LAWFUL_GOOD = "lawful_good"                                                                               
    NEUTRAL_GOOD = "neutral_good"                                                                             
    CHAOTIC_GOOD = "chaotic_good"                                                                             
    LAWFUL_NEUTRAL = "lawful_neutral"                                                                         
    TRUE_NEUTRAL = "true_neutral"                                                                             
    CHAOTIC_NEUTRAL = "chaotic_neutral"
    LAWFUL_EVIL = "lawful_evil"                                                                               
    NEUTRAL_EVIL = "neutral_evil"                                                                        
    CHAOTIC_EVIL = "chaotic_evil"                                                                             
                                                                                                              
                                                                                                               
@dataclass                                                                                                    
class Adventurer:                                                                                             
    """A person often late for dinner but with a tale or two to tell.                                         
                                                                                                               
    Attributes:                                                                                               
    name (str): Name of this adventurer                                                                   
    profession (str): Profession of this adventurer                                                       
    alignment (Alignment): Alignment of this adventurer                                                   
    level (int): Level of this adventurer                                                                     
    """                                                                                                       
                                                                                                                
    name: str                                                                                                 
    profession: str                                                                                           
    alignment: Alignment                                                                                      
    level: int = 1                                                                                            
                                                                                                                 
                                                                                                                 
@dataclass                                                                                                    
class QuestGiver:                                                                                             
    """A person who offers a task that needs completing.                                                                                                                                                                   
      Attributes:                                                                                               
      name (str): Name of this quest giver                                                                  
      faction (str): Faction that this quest giver belongs to                                               
      location (str): Location this quest giver can be found                                                
    """                                                                                                       

    name: str                                                                                                 
    faction: Optional[str] = None                                                                             
    location: str = "Adventurer's Guild"                                                                      
                                                                                                              
                                                                                                              
@dataclass                                                                                                    
class Quest:                                                                                                  
    """A task to complete, with some monetary reward.                                                         
                                                                                                               
    Attributes:                                                                                               
    name (str): Name by which this quest is referred to                                                   
    giver (QuestGiver): Person who offered the quest                                                      
    reward_gold (int): Amount of gold to be rewarded for quest completion                                 
    """                                                                                                       
                                                                                                        
    name: str                                                                                                 
    giver: QuestGiver                                                                                         
    reward_gold: int = 100                                                                                    
                                                                                                                 
                                                                                                                 
@dataclass                                                                                                    
class Party:                                                                                                  
     """A group of adventurers finding themselves doing and saying things altogether unexpected.               
                                                                                                                 
     Attributes:                                                                                               
     name (str): Name that party is known by                                                               
     formed_datetime (datetime): Timestamp of when the party was formed                                    
     members (List[Adventurer]): Adventurers that belong to this party                                     
     active_quest (Optional[Quest]): Current quest that party is actively tackling                         
     """                                                                                                       
                                                                                                                
     name: str                                                                                                 
     formed_datetime: datetime                                                                                 
     members: List[Adventurer] = field(default_factory=list)                                                   
     active_quest: Optional[Quest] = None

"""
0   description      548 non-null    object
 1   following        548 non-null    bool  
 2   followers_count  548 non-null    int64 
 3   friends_count    548 non-null    int64 
 4   id               548 non-null    int64 
 5   listed_count     548 non-null    int64 
 6   screen_name      548 non-null    object
 7   statuses_count   548 non-null    int64 
 8   verified         548 non-null    bool 
"""

"""
 0   favorite_count           1243370 non-null  int64  
 1   id                       1243370 non-null  int64  
 2   in_reply_to_screen_name  65411 non-null    object 
 3   in_reply_to_status_id    54146 non-null    float64
 4   in_reply_to_user_id      65411 non-null    float64
 5   quoted_status_id         56418 non-null    float64
 6   retweet_count            1243370 non-null  int64  
 7   screen_name              1243370 non-null  object 
 8   text                     1243370 non-null  object 
 9   truncated                1243370 non-null  bool   
 10  user_id                  1243370 non-null  int64  
 11  hashtags                 1243370 non-null  object 
 12  handles                  1243370 non-null  object
"""


@dataclass
class User:
    """
    a twitter user
    """
    description: List[str]
    following: bool
    followers_count: int
    friends_count:int
    id: int
    listed_count: int
    screen_name:str
    statuses_count: int
    verified: bool
    
    

@dataclass
class Tweet:
    """
    a tweet
    """
    favourite_count: int
    id: int
    in_reply_to_screen_name: bool
    in_reply_to_user_id: bool
    quoted_status_id: bool
    retweet_count: int
    screen_name: str
    text: str
    user_id: int
    hashtags: List[str]
    handles:  List[str]
    



import pandas as pd
from pyspark.sql import Row

spark_df = spark.createDataFrame([
    Row(a=1),
    Row(a=2),
    Row(a=3),
    Row(a=4),
    Row(a=5),
    Row(a=6),
    Row(a=7),
    Row(a=8),
    Row(a=9),
    Row(a=10)])

spark_df.show(10)

spark_df = spark.createDataFrame(pd.DataFrame({'a':[1,2,3,4,5,6,7,8,9,10]}))

spark_df.show(10)






















