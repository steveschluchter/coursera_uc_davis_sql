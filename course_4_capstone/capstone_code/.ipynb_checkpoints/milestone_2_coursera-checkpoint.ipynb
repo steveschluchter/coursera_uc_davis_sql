{
 "cells": [
  {
   "cell_type": "markdown",
   "metadata": {},
   "source": [
    "## Steve's Milestone 2 ##\n",
    "\n",
    "1.) Provide a summary of the different descriptive statistics you looked at and WHY.\n",
    "\n",
    "2.) Submit 2-3 key points you may have discovered about the data, e.g. new relationships?  Aha's!  DId you come up with additional ideas for other things to review?\n",
    "\n",
    "3.) Did you prove or disprove your initial hypotheses?  If so, which one and what do you plan to do next?\n",
    "\n",
    "4.) What additional questions are you seeking to answer?"
   ]
  },
  {
   "cell_type": "markdown",
   "metadata": {},
   "source": [
    "1.) I consulted the X (formerly twitter) docs at https://developer.twitter.com/en/docs/twitter-api/v1.\n",
    "\n",
    "I looked at: the number of follows per user, number of retweets per user, number of tweets per user, the number of tweets per user per year, the number of statuses per year (which is the number of tweets - including retweets - the user made), the number of times per user a tweet was retweeted, the number of times a per user a tweet was retweeted, and attempted to sort according to each field I was computing a summary statistic.  I thought it best to ask if there were any accounts that had more than one screen_name present in the tweets data.\n",
    "\n",
    "I'm attempting to get a feel for varying measures of popularity and see if there are any correlations that appear among the corresponding data.\n",
    "\n",
    "2.) \n",
    "\n",
    "a.) I discovered that there was only one screen name present per userid.  This was a good thing for analysis purposes; it made the analysis easier.\n",
    "\n",
    "b.) I discovered that Twitter overall was getting more popular over time among those represented in the congressional dataset.\n",
    "\n",
    "c.) I learned (unsurprisingly) that the most active users are changing over time.\n",
    "\n",
    "\n",
    "\n",
    "3.) \n",
    "\n",
    "a.) I also learned (also unsurprisingly) that the users with the highest number of retweets are changing over time.\n",
    "\n",
    "b.) I learned that the correlation between number of tweets and number of retweets is not strong: the Pearson correlation coeffecient of the vector containing the number of tweets per acccount (ordered by screen_name) and the vector containing the number of rewtweets per account (ordered by screen_name) is only \n",
    "\n",
    "c.) I created a pandas dataframe of joined data consisting of the followers_count', 'friends_count','listed_count', and 'statuses_count' fields from the user data, and I included a sum of retweets associated to each user.  The associated matrix of Pearson Correlation Coeffecients was not enlightening.  I suspect that what's being hidden by considering a higher altitude look is the more interesting data of how the most 'popular' users are changing over time.  I did discover that there were some higher coeffecients among the user metadata, and I will investigate that further later.\n",
    "\n",
    "d.) I learned that counting up the number of times someone's twitter handle (seemingly a public direct message) appeared in the text of the tweets was not a great measure of popularity, per se.  The sample size of mentions when compared to the volume of twitter data overall looks very, very small.\n",
    "\n",
    "4.) \n",
    "\n",
    "I'm no longer sure that it's a good idea to build a social network out of direct tweets if the sample size of mentions is that small.  I'll think more on it.\n",
    "\n",
    "\n",
    "    \n"
   ]
  },
  {
   "cell_type": "code",
   "execution_count": null,
   "metadata": {
    "vscode": {
     "languageId": "plaintext"
    }
   },
   "outputs": [],
   "source": []
  },
  {
   "cell_type": "markdown",
   "metadata": {},
   "source": []
  }
 ],
 "metadata": {
  "kernelspec": {
   "display_name": "Python 3 (ipykernel)",
   "language": "python",
   "name": "python3"
  },
  "language_info": {
   "codemirror_mode": {
    "name": "ipython",
    "version": 3
   },
   "file_extension": ".py",
   "mimetype": "text/x-python",
   "name": "python",
   "nbconvert_exporter": "python",
   "pygments_lexer": "ipython3",
   "version": "3.10.11"
  }
 },
 "nbformat": 4,
 "nbformat_minor": 2
}
