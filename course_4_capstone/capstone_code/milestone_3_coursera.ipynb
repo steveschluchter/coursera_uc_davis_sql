{
 "cells": [
  {
   "cell_type": "markdown",
   "metadata": {},
   "source": [
    "Dive Deeper\n",
    "\n",
    "Look deeper into the features you are investigating, consider:\n",
    "\n",
    "    Relationships / Correlation, Pearson Correlation\n",
    "\n",
    "    Linear Regression for future prediction (if the relationship is linear)\n",
    "\n",
    "    Textual Analysis for TF-IDF (Term Frequency-Inverse Document Frequency; Row-based and column-based, stop-word removal?\n",
    "\n",
    "Specify 1-2 correlations you discovered. List the fields that you found to be correlated and describe what you learned from these correlations.\n",
    "Go Broader \n",
    "\n",
    "I created a heatmap of correlations of a few countable items, and I found stronger relationships in terms of Pearson Correlations between the statuses_count, friends_count, and the listed_count fields.  It appears that being prolific on twitter does come with some gravity in tweets and retweets: the more you tweet, the more retweets and friends you'll get.  This seems obvious, but the data do bear that out.\n",
    "\n",
    "Expand the features you are investigating. Look for connections/relationships that you may have initially missed.\n",
    "\n",
    "    What jumps out at you now?\n",
    "\n",
    "    I built a social network using tweets with specific handles mentioned in the tweet, and each edge of the graph is of the form (sender_handle, handle_mentioned_in_tweet).  This graph is quite large and it's going to be difficult to get a mathematically sophisticated metric.\n",
    "\n",
    "    Use the descriptive stats to point you to features that you may now want to consider.\n",
    "\n",
    "    I considered data that weren't JSONs, lists, or other data structures that had geolocational information in them.  I didn't see much use is putting locations on a map.\n",
    "\n",
    "What key terms did you discover in any text analysis, for whom? Any themes? If you are not analyzing text, summarize what other things you are considering in your analysis?\n",
    "New Metric\n",
    "\n",
    "I'm interested in the effect that a higher sentiment score has on a tweet being retweeted.  I'm also interested in some entry level centrality measures of a social network I can create using the twitter data.  It looks like a higher sentiment score does indeed have an impact on a tweet being retweeted.  I'll mention that in my final report.\n",
    "\n",
    "Create 1 or 2 new metrics to track relationships of data you discovered. Explain why you created them.\n",
    "\n",
    "I'm computing centrality metrics for the social network graph that I created because I wanted to get a sense of basic social network analysis.  We'll see if I can actually compute all of them quickly enough.  Thus far, only the degree centrality seems to be computable without too much of a wait."
   ]
  },
  {
   "cell_type": "code",
   "execution_count": null,
   "metadata": {},
   "outputs": [],
   "source": []
  }
 ],
 "metadata": {
  "kernelspec": {
   "display_name": "base",
   "language": "python",
   "name": "python3"
  },
  "language_info": {
   "codemirror_mode": {
    "name": "ipython",
    "version": 3
   },
   "file_extension": ".py",
   "mimetype": "text/x-python",
   "name": "python",
   "nbconvert_exporter": "python",
   "pygments_lexer": "ipython3",
   "version": "3.11.5"
  }
 },
 "nbformat": 4,
 "nbformat_minor": 2
}
