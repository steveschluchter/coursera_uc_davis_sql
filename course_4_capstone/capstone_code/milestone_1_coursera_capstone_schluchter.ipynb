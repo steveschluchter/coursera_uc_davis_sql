{
 "cells": [
  {
   "cell_type": "markdown",
   "metadata": {},
   "source": [
    "### Coursera Learn SQL Basics for Data Science Specialization ###\n",
    "### Capstone Milestone 1, project proposal and data selection / preparation.  ###\n",
    "### Steve Schluchter ###\n"
   ]
  },
  {
   "cell_type": "markdown",
   "metadata": {},
   "source": [
    "\n",
    "# Step 1: Perparing for your proposal\n",
    "\n",
    "# You will document your preparation in developing the project proposal.  This includes:\n",
    "\n",
    "## 1.) Which client/dataset did you select and why?\n",
    "\n",
    "I chose the Lobbyists4America (Congressional tweets dataset).  I did this because of the opportunity to analyze some twitter data, and to see of there was a chance to develop a robust social network for the purpose of doing social network analysis.  I also wanted to explore what it meant to be 'influential' in this setting.\n",
    "\n",
    "## 2.) Describe the steps you took to import and clean the data.\n",
    "\n",
    "I chose to use pyspark as my first portal to the data.  I'm using pyspark 3.4.1.\n",
    "\n",
    "### The following relates to the tweet data and not the user data.\n",
    "\n",
    "I started cleaning the data by determining which of the fields were actually useful in that they contained data that could be useful.  A few of the fields didn't contain more than one distinct value (NULL in some cases).  Some of the data had fields that were unusable in that the urls contained were seemingly dead ends.  Some of the fields were also duplicates of others: there were some columns that were recasts of others as strings.\n",
    "\n",
    "I also chose to extract hashtags and twitter handles from the tweets themselves.\n",
    "\n",
    "I also chose to keep the geolocational information for further analysis if I chose to put the coordinates or cities on a map.\n",
    "\n",
    "There is the case of the 'source' field, which contains different data and still seems useless.  The rows in this column contain source code for websites that seemingly have nothing usable in them.\n",
    "\n",
    "I chose to keep the following fields in the tweets data:  entities, extended_entities, favorite_count, favorited, geo, id, in_reply_to_screen_name, in_reply_to_user_id, is_quote_status, retweeted_count, retweeted, screen_name, text, withheld_in_countries, withheld_scope.\n",
    "\n",
    "I made a point to desearlize the object data where I thought it was appropriate and store it as separate dataframes.  The same goes for the user data.\n",
    "\n",
    "### The following applies to the user data and not the tweet data.\n",
    "\n",
    "I chose to keep the following fields for further analysis for reasons similar to the reasons I used to make decisions about the twitter data: description, entities, favourites_count, followers_count, geo_enabled, is_translator, location, name, screen_name, verified.\n",
    "\n",
    "## 3.) Perform initial exploration of data and provide some screenshots or display some stats of the data you are looking at.\n",
    "\n",
    "I wanted to know how many users there were, how many retweets each user had, what the hashtags were in each tweet, and the  \n",
    "\n",
    "4.) Create an ERD or proposed ERD to show the relationships of the data you are exploring.\n",
    "\n"
   ]
  },
  {
   "cell_type": "markdown",
   "metadata": {},
   "source": []
  },
  {
   "cell_type": "markdown",
   "metadata": {},
   "source": []
  },
  {
   "cell_type": "code",
   "execution_count": 2,
   "metadata": {},
   "outputs": [
    {
     "name": "stderr",
     "output_type": "stream",
     "text": [
      "24/04/03 16:12:36 WARN Utils: Your hostname, devbox resolves to a loopback address: 127.0.1.1; using 192.168.11.61 instead (on interface eno1)\n",
      "24/04/03 16:12:36 WARN Utils: Set SPARK_LOCAL_IP if you need to bind to another address\n",
      "Setting default log level to \"WARN\".\n",
      "To adjust logging level use sc.setLogLevel(newLevel). For SparkR, use setLogLevel(newLevel).\n",
      "24/04/03 16:12:37 WARN NativeCodeLoader: Unable to load native-hadoop library for your platform... using builtin-java classes where applicable\n"
     ]
    }
   ],
   "source": [
    "from pyspark.sql import SparkSession\n",
    "spark = SparkSession.builder.appName(\"Steve's congressional tweet session\")\\\n",
    "                            .config(\"spark.driver.memory\", \"5g\")\\\n",
    "                            .config(\"spark.driver.cores\", '4')\\\n",
    "                            .getOrCreate()"
   ]
  },
  {
   "cell_type": "code",
   "execution_count": 3,
   "metadata": {},
   "outputs": [
    {
     "name": "stderr",
     "output_type": "stream",
     "text": [
      "24/04/03 16:12:46 WARN package: Truncated the string representation of a plan since it was too large. This behavior can be adjusted by setting 'spark.sql.debug.maxToStringFields'.\n"
     ]
    }
   ],
   "source": [
    "\n",
    "tweets_df = spark.read.json('../capstone_data/tweets.json')\n",
    "users_df = spark.read.json('../capstone_data/users.json')\n"
   ]
  },
  {
   "cell_type": "code",
   "execution_count": 4,
   "metadata": {},
   "outputs": [
    {
     "name": "stderr",
     "output_type": "stream",
     "text": [
      "[Stage 2:>                                                          (0 + 1) / 1]\r"
     ]
    },
    {
     "name": "stdout",
     "output_type": "stream",
     "text": [
      "+------------+-----------+----------+------------------+--------------------+-----------------+--------------+---------+----+---------+---------+-----------------------+---------------------+-------------------------+-------------------+-----------------------+---------------+----+-----+------------------+----------------+--------------------+-------------+---------+-----------+--------------------+--------------------+---------+-------+------------------+---------------------+--------------+\n",
      "|contributors|coordinates|created_at|display_text_range|            entities|extended_entities|favorite_count|favorited| geo|       id|   id_str|in_reply_to_screen_name|in_reply_to_status_id|in_reply_to_status_id_str|in_reply_to_user_id|in_reply_to_user_id_str|is_quote_status|lang|place|possibly_sensitive|quoted_status_id|quoted_status_id_str|retweet_count|retweeted|screen_name|              source|                text|truncated|user_id|withheld_copyright|withheld_in_countries|withheld_scope|\n",
      "+------------+-----------+----------+------------------+--------------------+-----------------+--------------+---------+----+---------+---------+-----------------------+---------------------+-------------------------+-------------------+-----------------------+---------------+----+-----+------------------+----------------+--------------------+-------------+---------+-----------+--------------------+--------------------+---------+-------+------------------+---------------------+--------------+\n",
      "|        null|       null|1217870931|           [0, 74]|{[], null, [], []...|             null|             0|    false|null|877418565|877418565|                   null|                 null|                     null|               null|                   null|          false|  en| null|              null|            null|                null|            0|    false|JohnBoozman|<a href=\"http://t...|On a conference c...|    false|5558312|              null|                 null|          null|\n",
      "|        null|       null|1218049485|           [0, 25]|{[], null, [], []...|             null|             0|    false|null|879618172|879618172|                   null|                 null|                     null|               null|                   null|          false|  nl| null|              null|            null|                null|            0|    false|JohnBoozman|<a href=\"http://t...|Being interviewed...|    false|5558312|              null|                 null|          null|\n",
      "|        null|       null|1218054936|           [0, 65]|{[], null, [], []...|             null|             0|    false|null|879695803|879695803|                   null|                 null|                     null|               null|                   null|          false|  en| null|              null|            null|                null|            0|    false|JohnBoozman|<a href=\"http://t...|Being interviewed...|    false|5558312|              null|                 null|          null|\n",
      "|        null|       null|1218117172|           [0, 37]|{[], null, [], []...|             null|             0|    false|null|880393665|880393665|                   null|                 null|                     null|               null|                   null|          false|  en| null|              null|            null|                null|            0|    false|JohnBoozman|<a href=\"http://t...|On KWHN in Fort S...|    false|5558312|              null|                 null|          null|\n",
      "|        null|       null|1218121925|           [0, 90]|{[], null, [], []...|             null|             0|    false|null|880474266|880474266|                   null|                 null|                     null|               null|                   null|          false|  en| null|              null|            null|                null|            0|    false|JohnBoozman|<a href=\"http://t...|Attending a Milit...|    false|5558312|              null|                 null|          null|\n",
      "|        null|       null|1218134125|           [0, 45]|{[], null, [], []...|             null|             0|    false|null|880676101|880676101|                   null|                 null|                     null|               null|                   null|          false|  en| null|              null|            null|                null|            0|    false|JohnBoozman|<a href=\"http://t...|Touring Helath So...|    false|5558312|              null|                 null|          null|\n",
      "|        null|       null|1219068455|          [0, 121]|{[], null, [], []...|             null|             0|    false|null|891075719|891075719|                   null|                 null|                     null|               null|                   null|          false|  en| null|              null|            null|                null|            0|    false|JohnBoozman|<a href=\"http://t...|conducting a vete...|    false|5558312|              null|                 null|          null|\n",
      "|        null|       null|1219234723|           [0, 32]|{[], null, [], []...|             null|             0|    false|null|893175219|893175219|                   null|                 null|                     null|               null|                   null|          false|  en| null|              null|            null|                null|            0|    false|JohnBoozman|<a href=\"http://t...|doing an intervie...|    false|5558312|              null|                 null|          null|\n",
      "|        null|       null|1219335847|           [0, 84]|{[], null, [], []...|             null|             0|    false|null|894551506|894551506|                   null|                 null|                     null|               null|                   null|          false|  en| null|              null|            null|                null|            0|    false|JohnBoozman|<a href=\"http://t...|Meeting with Emer...|    false|5558312|              null|                 null|          null|\n",
      "|        null|       null|1219948700|           [0, 80]|{[], null, [], []...|             null|             0|    false|null|901977122|901977122|                   null|                 null|                     null|               null|                   null|          false|  en| null|              null|            null|                null|            0|    false|JohnBoozman|<a href=\"http://t...|Listening to cons...|    false|5558312|              null|                 null|          null|\n",
      "+------------+-----------+----------+------------------+--------------------+-----------------+--------------+---------+----+---------+---------+-----------------------+---------------------+-------------------------+-------------------+-----------------------+---------------+----+-----+------------------+----------------+--------------------+-------------+---------+-----------+--------------------+--------------------+---------+-------+------------------+---------------------+--------------+\n",
      "only showing top 10 rows\n",
      "\n"
     ]
    },
    {
     "name": "stderr",
     "output_type": "stream",
     "text": [
      "                                                                                \r"
     ]
    }
   ],
   "source": [
    "tweets_df.show(10)"
   ]
  },
  {
   "cell_type": "code",
   "execution_count": 5,
   "metadata": {},
   "outputs": [
    {
     "data": {
      "text/plain": [
       "'contributors'"
      ]
     },
     "metadata": {},
     "output_type": "display_data"
    },
    {
     "name": "stderr",
     "output_type": "stream",
     "text": [
      "[Stage 3:============================================>            (25 + 7) / 32]\r"
     ]
    },
    {
     "name": "stdout",
     "output_type": "stream",
     "text": [
      "+------------+\n",
      "|contributors|\n",
      "+------------+\n",
      "|null        |\n",
      "+------------+\n",
      "\n"
     ]
    },
    {
     "name": "stderr",
     "output_type": "stream",
     "text": [
      "                                                                                \r"
     ]
    },
    {
     "data": {
      "text/plain": [
       "'coordinates'"
      ]
     },
     "metadata": {},
     "output_type": "display_data"
    },
    {
     "name": "stderr",
     "output_type": "stream",
     "text": [
      "[Stage 6:>                                                        (0 + 32) / 32]\r"
     ]
    },
    {
     "name": "stdout",
     "output_type": "stream",
     "text": [
      "+-------------------------------------+\n",
      "|coordinates                          |\n",
      "+-------------------------------------+\n",
      "|{[-101.87455818, 35.1881753], Point} |\n",
      "|{[-77.008146, 38.886786], Point}     |\n",
      "|null                                 |\n",
      "|{[-101.77694268, 34.5343206], Point} |\n",
      "|{[-72.72213061, 41.69389783], Point} |\n",
      "|{[-120.7401386, 47.7510741], Point}  |\n",
      "|{[-73.3853935, 41.4222126], Point}   |\n",
      "|{[-77.036366, 38.895112], Point}     |\n",
      "|{[-77.00832285, 38.88542354], Point} |\n",
      "|{[-77.00845242, 38.89016435], Point} |\n",
      "|{[-81.19828167, 34.1214815], Point}  |\n",
      "|{[-97.74284743, 30.27273475], Point} |\n",
      "|{[-96.9346334, 28.81878616], Point}  |\n",
      "|{[-100.46518582, 31.44088575], Point}|\n",
      "|{[-97.74279467, 30.27256086], Point} |\n",
      "|{[-81.67557282, 34.3741918], Point}  |\n",
      "|{[-82.8433072, 34.6654277], Point}   |\n",
      "|{[-82.9833795, 34.6889104], Point}   |\n",
      "|{[-90.18186081, 41.87355821], Point} |\n",
      "|{[-82.9935751, 34.68688417], Point}  |\n",
      "+-------------------------------------+\n",
      "only showing top 20 rows\n",
      "\n"
     ]
    },
    {
     "name": "stderr",
     "output_type": "stream",
     "text": [
      "                                                                                \r"
     ]
    },
    {
     "data": {
      "text/plain": [
       "'entities'"
      ]
     },
     "metadata": {},
     "output_type": "display_data"
    },
    {
     "name": "stderr",
     "output_type": "stream",
     "text": [
      "[Stage 9:================>                                        (9 + 23) / 32]\r"
     ]
    },
    {
     "name": "stdout",
     "output_type": "stream",
     "text": [
      "+---------------------------------------------------------------------------------------------------------------------------------------------------------+\n",
      "|entities                                                                                                                                                 |\n",
      "+---------------------------------------------------------------------------------------------------------------------------------------------------------+\n",
      "|{[], null, [], [], [{28464751, 28464751, [0, 14], Noel Rodriguez, noelrodriguez}]}                                                                       |\n",
      "|{[{[64, 69], TCOT}], null, [], [], []}                                                                                                                   |\n",
      "|{[{[117, 126], sctweets}, {[127, 133], scgop}, {[134, 139], tcot}], null, [], [], []}                                                                    |\n",
      "|{[{[86, 91], TCOT}, {[92, 99], FLTCOT}], null, [], [], []}                                                                                               |\n",
      "|{[{[80, 91], healthcare}], null, [], [], []}                                                                                                             |\n",
      "|{[{[114, 126], MaSenDebate}, {[127, 133], MaSen}], null, [], [], [{21839895, 21839895, [3, 12], Jason A. Aluia ®, Jason825}]}                            |\n",
      "|{[{[45, 55], HouseCall}, {[76, 81], TCOT}], null, [], [], []}                                                                                            |\n",
      "|{[{[109, 115], MASen}, {[116, 126], Mike4Mass}], null, [], [], []}                                                                                       |\n",
      "|{[{[60, 66], MaSen}, {[67, 77], Mike4Mass}], null, [], [], []}                                                                                           |\n",
      "|{[{[88, 97], sctweets}, {[98, 102], GOP}, {[103, 111], liberty}, {[112, 121], teaparty}, {[122, 131], politics}], null, [], [], []}                      |\n",
      "|{[{[94, 99], tcot}, {[100, 104], sgp}], null, [], [], [{720304525333008384, 720304525333008384, [3, 15], Miko, senate_gops}]}                            |\n",
      "|{[{[90, 99], sctweets}], null, [], [], [{56718054, 56718054, [74, 88], firstpresgreenville, FPCgreenville}]}                                             |\n",
      "|{[{[13, 17], hcr}, {[78, 82], gop}, {[83, 88], tcot}], null, [], [], []}                                                                                 |\n",
      "|{[{[124, 129], tcot}, {[130, 137], alaska}], null, [], [], []}                                                                                           |\n",
      "|{[{[94, 99], jobs}], null, [], [], []}                                                                                                                   |\n",
      "|{[], null, [], [], [{513938143, 513938143, [0, 14], Chris  Hernandez, ChristoferJoe}]}                                                                   |\n",
      "|{[{[0, 3], BP}, {[50, 60], Deepwater}], null, [], [], []}                                                                                                |\n",
      "|{[{[11, 22], bloomfield}], null, [], [], []}                                                                                                             |\n",
      "|{[{[77, 85], bailout}, {[86, 92], txgop}, {[93, 102], teaparty}], null, [], [], []}                                                                      |\n",
      "|{[], null, [], [], [{142321780, 142321780, [3, 18], America Speaking Out, USASpeakingOut}, {2982157083, 2982157083, [21, 36], Капустин, RepPaulBrounMD}]}|\n",
      "+---------------------------------------------------------------------------------------------------------------------------------------------------------+\n",
      "only showing top 20 rows\n",
      "\n"
     ]
    },
    {
     "name": "stderr",
     "output_type": "stream",
     "text": [
      "                                                                                \r"
     ]
    },
    {
     "data": {
      "text/plain": [
       "'extended_entities'"
      ]
     },
     "metadata": {},
     "output_type": "display_data"
    },
    {
     "name": "stderr",
     "output_type": "stream",
     "text": [
      "[Stage 12:=====>                                                  (3 + 29) / 32]\r"
     ]
    },
    {
     "name": "stdout",
     "output_type": "stream",
     "text": [
      "+--------------------------------------------------------------------------------------------------------------------------------------------------------------------------------------------------------------------------------------------------------------------------------------------------------------------------------------------------------------------------------------------------------------------------------------+\n",
      "|extended_entities                                                                                                                                                                                                                                                                                                                                                                                                                     |\n",
      "+--------------------------------------------------------------------------------------------------------------------------------------------------------------------------------------------------------------------------------------------------------------------------------------------------------------------------------------------------------------------------------------------------------------------------------------+\n",
      "|{[{null, pic.twitter.com/nUd55lx4, https://twitter.com/RepWalberg/status/115779372560023552/photo/1, 115779372564217856, 115779372564217856, [79, 99], http://pbs.twimg.com/media/AZtUudYCAAAKjkf.jpg, https://pbs.twimg.com/media/AZtUudYCAAAKjkf.jpg, {{768, fit, 1024}, {450, fit, 600}, {255, fit, 340}, {150, crop, 150}}, null, null, null, null, photo, http://t.co/nUd55lx4, null}]}                                          |\n",
      "|{[{null, pic.twitter.com/Y8eutnlr, https://twitter.com/RepTomReed/status/149920636330979328/photo/1, 149920636335173632, 149920636335173632, [119, 139], http://pbs.twimg.com/media/AhSgBkFCMAAnSEb.jpg, https://pbs.twimg.com/media/AhSgBkFCMAAnSEb.jpg, {{683, fit, 1024}, {400, fit, 600}, {227, fit, 340}, {150, crop, 150}}, null, null, null, null, photo, http://t.co/Y8eutnlr, null}]}                                        |\n",
      "|{[{null, pic.twitter.com/jDYaA5tA, https://twitter.com/repblumenauer/status/114150809062752256/photo/1, 114150809066946561, 114150809066946561, [113, 133], http://pbs.twimg.com/media/AZWLjllCQAE5feQ.jpg, https://pbs.twimg.com/media/AZWLjllCQAE5feQ.jpg, {{575, fit, 1024}, {337, fit, 600}, {191, fit, 340}, {150, crop, 150}}, null, null, null, null, photo, http://t.co/jDYaA5tA, null}]}                                     |\n",
      "|{[{null, pic.twitter.com/4lgbkrfT, https://twitter.com/RepLindaSanchez/status/124186867842301952/photo/1, 124186867846496256, 124186867846496256, [118, 138], http://pbs.twimg.com/media/AbkzTF_CQAAUpnF.jpg, https://pbs.twimg.com/media/AbkzTF_CQAAUpnF.jpg, {{680, fit, 1024}, {398, fit, 600}, {226, fit, 340}, {150, crop, 150}}, null, null, null, null, photo, http://t.co/4lgbkrfT, null}]}                                   |\n",
      "|{[{null, pic.twitter.com/uTgYrRMM, https://twitter.com/MacTXPress/status/142307374710001665/photo/1, 142307374718390272, 142307374718390272, [93, 113], http://pbs.twimg.com/media/AfmTzacCEAACR76.jpg, https://pbs.twimg.com/media/AfmTzacCEAACR76.jpg, {{717, fit, 960}, {448, fit, 600}, {254, fit, 340}, {150, crop, 150}}, null, null, null, null, photo, http://t.co/uTgYrRMM, null}]}                                          |\n",
      "|{[{null, pic.twitter.com/XSf6l8B, https://twitter.com/SenBennetCO/status/108630415434199040/photo/1, 108630415438393344, 108630415438393344, [0, 19], http://pbs.twimg.com/media/AYHuyYwCMAAapIl.jpg, https://pbs.twimg.com/media/AYHuyYwCMAAapIl.jpg, {{768, fit, 1024}, {450, fit, 600}, {255, fit, 340}, {150, crop, 150}}, null, null, null, null, photo, http://t.co/XSf6l8B, null}]}                                            |\n",
      "|{[{null, pic.twitter.com/UeKpI5Sz, https://twitter.com/RepPeterDeFazio/status/126703548430942209/photo/1, 126703548439330816, 126703548439330816, [73, 93], http://pbs.twimg.com/media/AcIkNLyCAAAZg7S.jpg, https://pbs.twimg.com/media/AcIkNLyCAAAZg7S.jpg, {{1511, fit, 1024}, {885, fit, 600}, {502, fit, 340}, {150, crop, 150}}, null, null, null, null, photo, http://t.co/UeKpI5Sz, null}]}                                    |\n",
      "|{[{null, pic.twitter.com/zY7I04WF, https://twitter.com/ButchOtter/status/131137833460187136/photo/1, 131137833464381441, 131137833464381441, [117, 137], http://pbs.twimg.com/media/AdHlKixCQAE5Kdc.jpg, https://pbs.twimg.com/media/AdHlKixCQAE5Kdc.jpg, {{982, fit, 1024}, {575, fit, 600}, {326, fit, 340}, {150, crop, 150}}, null, null, null, null, photo, http://t.co/zY7I04WF, null}]}                                        |\n",
      "|{[{null, pic.twitter.com/AmGgB7V, https://twitter.com/SenBennetCO/status/111549686019670016/photo/1, 111549686032236544, 111549686032236544, [119, 138], http://pbs.twimg.com/media/AYxN2TLCAAAqO7q.jpg, https://pbs.twimg.com/media/AYxN2TLCAAAqO7q.jpg, {{768, fit, 1024}, {450, fit, 600}, {255, fit, 340}, {150, crop, 150}}, null, null, null, null, photo, http://t.co/AmGgB7V, null}]}                                         |\n",
      "|{[{null, pic.twitter.com/qRfM1UvO, https://twitter.com/RepKarenBass/status/149647157861957632/photo/1, 149647157866151937, 149647157866151937, [86, 106], http://pbs.twimg.com/media/AhOnTBZCQAE1eGt.jpg, https://pbs.twimg.com/media/AhOnTBZCQAE1eGt.jpg, {{768, fit, 1024}, {450, fit, 600}, {255, fit, 340}, {150, crop, 150}}, null, null, null, null, photo, http://t.co/qRfM1UvO, null}]}                                       |\n",
      "|{[{null, pic.twitter.com/qcxzDKJ, https://twitter.com/BillHaslam/status/101455315236687873/photo/1, 101455315240882176, 101455315240882176, [114, 133], http://pbs.twimg.com/media/AWhxElmCEAAF8II.jpg, https://pbs.twimg.com/media/AWhxElmCEAAF8II.jpg, {{720, fit, 960}, {450, fit, 600}, {255, fit, 340}, {150, crop, 150}}, null, null, null, null, photo, http://t.co/qcxzDKJ, null}]}                                           |\n",
      "|{[{null, pic.twitter.com/Mxay1bIp, https://twitter.com/RepLouBarletta/status/118087292404498432/photo/1, 118087292408692737, 118087292408692737, [105, 125], http://pbs.twimg.com/media/AaOHxEyCAAECzzw.jpg, https://pbs.twimg.com/media/AaOHxEyCAAECzzw.jpg, {{768, fit, 1024}, {450, fit, 600}, {255, fit, 340}, {150, crop, 150}}, null, null, null, null, photo, http://t.co/Mxay1bIp, null}]}                                    |\n",
      "|{[{null, pic.twitter.com/b46KdLmg, https://twitter.com/GovSandoval/status/136272988294230016/photo/1, 136272988298424322, 136272988298424322, [103, 123], http://pbs.twimg.com/media/AeQjj5QCMAILRrn.jpg, https://pbs.twimg.com/media/AeQjj5QCMAILRrn.jpg, {{768, fit, 1024}, {450, fit, 600}, {255, fit, 340}, {150, crop, 150}}, null, null, null, null, photo, http://t.co/b46KdLmg, null}]}                                       |\n",
      "|{[{null, pic.twitter.com/iiEBfvMZ, https://twitter.com/USRepJoeWilson/status/118690797502726145/photo/1, 118690797506920450, 118690797506920450, [116, 136], http://pbs.twimg.com/media/AaWspseCAAIZ9NB.jpg, https://pbs.twimg.com/media/AaWspseCAAIZ9NB.jpg, {{478, fit, 640}, {448, fit, 600}, {254, fit, 340}, {150, crop, 150}}, null, null, null, null, photo, http://t.co/iiEBfvMZ, null}]}                                     |\n",
      "|{[{null, pic.twitter.com/luKsGlXp, https://twitter.com/KimReynoldsIA/status/165497083594420224/photo/1, 165497083598614528, 165497083598614528, [106, 126], http://pbs.twimg.com/media/Akv2uH9CMAAOynM.jpg, https://pbs.twimg.com/media/Akv2uH9CMAAOynM.jpg, {{768, fit, 1024}, {450, fit, 600}, {255, fit, 340}, {150, crop, 150}}, null, null, null, null, photo, http://t.co/luKsGlXp, null}]}                                     |\n",
      "|{[{null, pic.twitter.com/177eFOez, https://twitter.com/GovMarkDayton/status/167673291115466753/photo/1, 167673291119661056, 167673291119661056, [78, 98], http://pbs.twimg.com/media/AlOx-EuCEAA1pCC.jpg, https://pbs.twimg.com/media/AlOx-EuCEAA1pCC.jpg, {{648, fit, 484}, {648, fit, 484}, {455, fit, 340}, {150, crop, 150}}, null, null, null, null, photo, http://t.co/177eFOez, null}]}                                        |\n",
      "|{[{null, pic.twitter.com/tNdLDMSV, https://twitter.com/servingrtroops/status/167696443644190720/photo/1, 167696443648385024, 167696443648385024, [100, 120], http://pbs.twimg.com/media/AlPHBunCIAAxQ50.jpg, https://pbs.twimg.com/media/AlPHBunCIAAxQ50.jpg, {{765, fit, 1024}, {448, fit, 600}, {254, fit, 340}, {150, crop, 150}}, 167696443644190720, 167696443644190720, 89506378, 89506378, photo, http://t.co/tNdLDMSV, null}]}|\n",
      "|{[{null, pic.twitter.com/jUjvWm6q, https://twitter.com/RepWalterJones/status/174180415010119680/photo/1, 174180415014313984, 174180415014313984, [115, 135], http://pbs.twimg.com/media/AmrQKiPCIAAFyUP.jpg, https://pbs.twimg.com/media/AmrQKiPCIAAFyUP.jpg, {{201, fit, 246}, {201, fit, 246}, {201, fit, 246}, {150, crop, 150}}, null, null, null, null, photo, http://t.co/jUjvWm6q, null}]}                                     |\n",
      "|{[{null, pic.twitter.com/2Ygmn0Bc, https://twitter.com/maziehirono/status/185090684796153856/photo/1, 185090684800348160, 185090684800348160, [111, 131], http://pbs.twimg.com/media/ApGS_0bCMAA_WSv.jpg, https://pbs.twimg.com/media/ApGS_0bCMAA_WSv.jpg, {{789, fit, 1024}, {462, fit, 600}, {262, fit, 340}, {150, crop, 150}}, null, null, null, null, photo, http://t.co/2Ygmn0Bc, null}]}                                       |\n",
      "|{[{null, pic.twitter.com/RDPbcUEi, https://twitter.com/MiriamValverde/status/194509248577798145/photo/1, 194509248586186752, 194509248586186752, [108, 128], http://pbs.twimg.com/media/ArMJIYuCAAAQE_S.jpg, https://pbs.twimg.com/media/ArMJIYuCAAAQE_S.jpg, {{765, fit, 1024}, {448, fit, 600}, {254, fit, 340}, {150, crop, 150}}, 194509248577798145, 194509248577798145, 95455546, 95455546, photo, http://t.co/RDPbcUEi, null}]}|\n",
      "+--------------------------------------------------------------------------------------------------------------------------------------------------------------------------------------------------------------------------------------------------------------------------------------------------------------------------------------------------------------------------------------------------------------------------------------+\n",
      "only showing top 20 rows\n",
      "\n"
     ]
    },
    {
     "name": "stderr",
     "output_type": "stream",
     "text": [
      "                                                                                \r"
     ]
    },
    {
     "data": {
      "text/plain": [
       "'favorite_count'"
      ]
     },
     "metadata": {},
     "output_type": "display_data"
    },
    {
     "name": "stderr",
     "output_type": "stream",
     "text": [
      "[Stage 15:==========>                                             (6 + 26) / 32]\r"
     ]
    },
    {
     "name": "stdout",
     "output_type": "stream",
     "text": [
      "+--------------+\n",
      "|favorite_count|\n",
      "+--------------+\n",
      "|29            |\n",
      "|26            |\n",
      "|19            |\n",
      "|0             |\n",
      "|155           |\n",
      "|7             |\n",
      "|126           |\n",
      "|94            |\n",
      "|43            |\n",
      "|25            |\n",
      "|6             |\n",
      "|9             |\n",
      "|27            |\n",
      "|17            |\n",
      "|5             |\n",
      "|1             |\n",
      "|10            |\n",
      "|3             |\n",
      "|12            |\n",
      "|74            |\n",
      "+--------------+\n",
      "only showing top 20 rows\n",
      "\n"
     ]
    },
    {
     "name": "stderr",
     "output_type": "stream",
     "text": [
      "                                                                                \r"
     ]
    },
    {
     "data": {
      "text/plain": [
       "'favorited'"
      ]
     },
     "metadata": {},
     "output_type": "display_data"
    },
    {
     "name": "stderr",
     "output_type": "stream",
     "text": [
      "[Stage 18:=>                                                      (1 + 31) / 32]\r"
     ]
    },
    {
     "name": "stdout",
     "output_type": "stream",
     "text": [
      "+---------+\n",
      "|favorited|\n",
      "+---------+\n",
      "|false    |\n",
      "|true     |\n",
      "+---------+\n",
      "\n"
     ]
    },
    {
     "name": "stderr",
     "output_type": "stream",
     "text": [
      "                                                                                \r"
     ]
    },
    {
     "data": {
      "text/plain": [
       "'in_reply_to_screen_name'"
      ]
     },
     "metadata": {},
     "output_type": "display_data"
    },
    {
     "name": "stderr",
     "output_type": "stream",
     "text": [
      "[Stage 21:========>                                               (5 + 27) / 32]\r"
     ]
    },
    {
     "name": "stdout",
     "output_type": "stream",
     "text": [
      "+-----------------------+\n",
      "|in_reply_to_screen_name|\n",
      "+-----------------------+\n",
      "|RTHTGakaRoland         |\n",
      "|AshleyAtTimes          |\n",
      "|stevekimura            |\n",
      "|KrisKetzKMBC           |\n",
      "|tylerburgess           |\n",
      "|joeelector             |\n",
      "|SDonlon004             |\n",
      "|MichaelWatsonDC        |\n",
      "|EHHamrick              |\n",
      "|ryanobles              |\n",
      "|2SouthernBell          |\n",
      "|GQMagazine             |\n",
      "|kgkrost                |\n",
      "|KatieS                 |\n",
      "|scottrgordon           |\n",
      "|khaake                 |\n",
      "|JeffDSachs             |\n",
      "|metaquest              |\n",
      "|ColoradoStand          |\n",
      "|KarlaMaddox            |\n",
      "+-----------------------+\n",
      "only showing top 20 rows\n",
      "\n"
     ]
    },
    {
     "name": "stderr",
     "output_type": "stream",
     "text": [
      "                                                                                \r"
     ]
    },
    {
     "data": {
      "text/plain": [
       "'in_reply_to_status_id'"
      ]
     },
     "metadata": {},
     "output_type": "display_data"
    },
    {
     "name": "stderr",
     "output_type": "stream",
     "text": [
      "[Stage 24:>                                                       (0 + 32) / 32]\r"
     ]
    },
    {
     "name": "stdout",
     "output_type": "stream",
     "text": [
      "+---------------------+\n",
      "|in_reply_to_status_id|\n",
      "+---------------------+\n",
      "|13518010948          |\n",
      "|13992721800          |\n",
      "|24681272657          |\n",
      "|19798697583841282    |\n",
      "|53148519804055552    |\n",
      "|96967872689090560    |\n",
      "|154652417382813696   |\n",
      "|6580737314           |\n",
      "|22199044221          |\n",
      "|58285537370456064    |\n",
      "|58562986549321728    |\n",
      "|78878634290581504    |\n",
      "|80793557199355904    |\n",
      "|116672861053272064   |\n",
      "|123827566778912768   |\n",
      "|125447568858689536   |\n",
      "|132535747772301312   |\n",
      "|146693387469324288   |\n",
      "|4834707661           |\n",
      "|66216056447967232    |\n",
      "+---------------------+\n",
      "only showing top 20 rows\n",
      "\n"
     ]
    },
    {
     "name": "stderr",
     "output_type": "stream",
     "text": [
      "                                                                                \r"
     ]
    },
    {
     "data": {
      "text/plain": [
       "'in_reply_to_user_id'"
      ]
     },
     "metadata": {},
     "output_type": "display_data"
    },
    {
     "name": "stderr",
     "output_type": "stream",
     "text": [
      "[Stage 27:===>                                                    (2 + 30) / 32]\r"
     ]
    },
    {
     "name": "stdout",
     "output_type": "stream",
     "text": [
      "+-------------------+\n",
      "|in_reply_to_user_id|\n",
      "+-------------------+\n",
      "|38416342           |\n",
      "|13216782           |\n",
      "|16061631           |\n",
      "|14738157           |\n",
      "|42194120           |\n",
      "|96026164           |\n",
      "|6519522            |\n",
      "|239949176          |\n",
      "|21116401           |\n",
      "|108080788          |\n",
      "|9793302            |\n",
      "|76348185           |\n",
      "|15647676           |\n",
      "|242049285          |\n",
      "|239122146          |\n",
      "|128608886          |\n",
      "|21634627           |\n",
      "|17634462           |\n",
      "|315938504          |\n",
      "|31528510           |\n",
      "+-------------------+\n",
      "only showing top 20 rows\n",
      "\n"
     ]
    },
    {
     "name": "stderr",
     "output_type": "stream",
     "text": [
      "                                                                                \r"
     ]
    },
    {
     "data": {
      "text/plain": [
       "'is_quote_status'"
      ]
     },
     "metadata": {},
     "output_type": "display_data"
    },
    {
     "name": "stderr",
     "output_type": "stream",
     "text": [
      "[Stage 30:=========================>                             (15 + 17) / 32]\r"
     ]
    },
    {
     "name": "stdout",
     "output_type": "stream",
     "text": [
      "+---------------+\n",
      "|is_quote_status|\n",
      "+---------------+\n",
      "|true           |\n",
      "|false          |\n",
      "+---------------+\n",
      "\n"
     ]
    },
    {
     "name": "stderr",
     "output_type": "stream",
     "text": [
      "                                                                                \r"
     ]
    },
    {
     "data": {
      "text/plain": [
       "'lang'"
      ]
     },
     "metadata": {},
     "output_type": "display_data"
    },
    {
     "name": "stderr",
     "output_type": "stream",
     "text": [
      "[Stage 33:===========================================>            (25 + 7) / 32]\r"
     ]
    },
    {
     "name": "stdout",
     "output_type": "stream",
     "text": [
      "+----+\n",
      "|lang|\n",
      "+----+\n",
      "|en  |\n",
      "|ro  |\n",
      "|sl  |\n",
      "|und |\n",
      "|lv  |\n",
      "|pl  |\n",
      "|pt  |\n",
      "|tl  |\n",
      "|in  |\n",
      "|cs  |\n",
      "|is  |\n",
      "|de  |\n",
      "|es  |\n",
      "|eu  |\n",
      "|it  |\n",
      "|sv  |\n",
      "|nl  |\n",
      "|ht  |\n",
      "|no  |\n",
      "|cy  |\n",
      "+----+\n",
      "only showing top 20 rows\n",
      "\n"
     ]
    },
    {
     "name": "stderr",
     "output_type": "stream",
     "text": [
      "                                                                                \r"
     ]
    },
    {
     "data": {
      "text/plain": [
       "'place'"
      ]
     },
     "metadata": {},
     "output_type": "display_data"
    },
    {
     "name": "stderr",
     "output_type": "stream",
     "text": [
      "[Stage 36:=>                                                      (1 + 31) / 32]\r"
     ]
    },
    {
     "name": "stdout",
     "output_type": "stream",
     "text": [
      "+--------------------------------------------------------------------------------------------------------------------------------------------------------------------------------------------------------------------------------------------------------------------------------------------+\n",
      "|place                                                                                                                                                                                                                                                                                       |\n",
      "+--------------------------------------------------------------------------------------------------------------------------------------------------------------------------------------------------------------------------------------------------------------------------------------------+\n",
      "|null                                                                                                                                                                                                                                                                                        |\n",
      "|{{[[[-101.96758, 35.098693], [-101.664604, 35.098693], [-101.664604, 35.323538], [-101.96758, 35.323538]]], Polygon}, [], United States, US, Amarillo, TX, 52a0517c2183cf22, Amarillo, city, https://api.twitter.com/1.1/geo/id/52a0517c2183cf22.json}                                      |\n",
      "|{{[[[-72.762431, 41.647296], [-72.700621, 41.647296], [-72.700621, 41.724482], [-72.762431, 41.724482]]], Polygon}, [], United States, US, Newington, CT, 89df89b3b7ac521b, Newington, city, https://api.twitter.com/1.1/geo/id/89df89b3b7ac521b.json}                                      |\n",
      "|{{[[[-121.180713, 47.464604], [-120.441951, 47.464604], [-120.441951, 48.180575], [-121.180713, 48.180575]]], Polygon}, [], United States, US, Leavenworth-Lake Wenatchee, WA, 24011a9919b4442e, Leavenworth-Lake Wenatchee, city, https://api.twitter.com/1.1/geo/id/24011a9919b4442e.json}|\n",
      "|{{[[[-83.288056, 42.255085], [-82.91052, 42.255085], [-82.91052, 42.450488], [-83.288056, 42.450488]]], Polygon}, [], United States, US, Detroit, MI, b463d3bd6064861b, Detroit, city, https://api.twitter.com/1.1/geo/id/b463d3bd6064861b.json}                                            |\n",
      "|{{[[[-72.715296, 41.627705], [-72.60863, 41.627705], [-72.60863, 41.688099], [-72.715296, 41.688099]]], Polygon}, [], United States, US, Rocky Hill, CT, 2f25fa2b6cabb434, Rocky Hill, city, https://api.twitter.com/1.1/geo/id/2f25fa2b6cabb434.json}                                      |\n",
      "|{{[[[-124.848975, 45.543542], [-116.915989, 45.543542], [-116.915989, 49.0025023], [-124.848975, 49.0025023]]], Polygon}, [], United States, US, Washington, USA, bc3a38d3d5999b4b, Washington, admin, https://api.twitter.com/1.1/geo/id/bc3a38d3d5999b4b.json}                            |\n",
      "|{{[[[-73.727776, 40.950918], [-71.786994, 40.950918], [-71.786994, 42.050588], [-73.727776, 42.050588]]], Polygon}, [], United States, US, Connecticut, USA, e86b380cfefcced5, Connecticut, admin, https://api.twitter.com/1.1/geo/id/e86b380cfefcced5.json}                                |\n",
      "|{{[[[-122.287311, 46.857158], [-122.244361, 46.857158], [-122.244361, 46.882227], [-122.287311, 46.882227]]], Polygon}, [], United States, US, Eatonville, WA, da6ff773e6ef6e31, Eatonville, city, https://api.twitter.com/1.1/geo/id/da6ff773e6ef6e31.json}                                |\n",
      "|{{[[[-122.2663975, 47.257029], [-122.144477, 47.257029], [-122.144477, 47.356233], [-122.2663975, 47.356233]]], Polygon}, [], United States, US, Auburn, WA, f479e40901a48515, Auburn, city, https://api.twitter.com/1.1/geo/id/f479e40901a48515.json}                                      |\n",
      "|{{[[[-84.515906, 42.704505], [-84.447347, 42.704505], [-84.447347, 42.788935], [-84.515906, 42.788935]]], Polygon}, [], United States, US, East Lansing, MI, aeca883f15e2aa85, East Lansing, city, https://api.twitter.com/1.1/geo/id/aeca883f15e2aa85.json}                                |\n",
      "|{{[[[-101.815298, 34.519541], [-101.748662, 34.519541], [-101.748662, 34.558667], [-101.815298, 34.558667]]], Polygon}, [], United States, US, Tulia, TX, a2bb14dc16e7b06b, Tulia, city, https://api.twitter.com/1.1/geo/id/a2bb14dc16e7b06b.json}                                          |\n",
      "|{{[[[-77.119401, 38.801826], [-76.909396, 38.801826], [-76.909396, 38.9953797], [-77.119401, 38.9953797]]], Polygon}, [], United States, US, Washington, DC, 01fbe706f872cb32, Washington, city, https://api.twitter.com/1.1/geo/id/01fbe706f872cb32.json}                                  |\n",
      "|{{[[[-97.045657, 28.709293], [-96.9001678, 28.709293], [-96.9001678, 28.895775], [-97.045657, 28.895775]]], Polygon}, [], United States, US, Victoria, TX, 70f5587b3e27a105, Victoria, city, https://api.twitter.com/1.1/geo/id/70f5587b3e27a105.json}                                      |\n",
      "|{{[[[-93.8528841, 41.596435], [-93.718016, 41.596435], [-93.718016, 41.629384], [-93.8528841, 41.629384]]], Polygon}, [], United States, US, Clive, IA, af540879abba179c, Clive, city, https://api.twitter.com/1.1/geo/id/af540879abba179c.json}                                            |\n",
      "|{{[[[-83.772342, 42.946699], [-83.619761, 42.946699], [-83.619761, 43.079351], [-83.772342, 43.079351]]], Polygon}, [], United States, US, Flint, MI, 9d0d054636732871, Flint, city, https://api.twitter.com/1.1/geo/id/9d0d054636732871.json}                                              |\n",
      "|{{[[[-87.054766, 35.967785], [-86.515588, 35.967785], [-86.515588, 36.405496], [-87.054766, 36.405496]]], Polygon}, [], United States, US, Nashville, TN, 67eb74af40bb4766, Nashville, city, https://api.twitter.com/1.1/geo/id/67eb74af40bb4766.json}                                      |\n",
      "|{{[[[-82.024291, 34.9893165], [-81.937438, 34.9893165], [-81.937438, 35.028922], [-82.024291, 35.028922]]], Polygon}, [], United States, US, Valley Falls, SC, 83f69050c89a6a95, Valley Falls, city, https://api.twitter.com/1.1/geo/id/83f69050c89a6a95.json}                              |\n",
      "|{{[[[-83.2870942, 42.277554], [-83.14002, 42.277554], [-83.14002, 42.3519101], [-83.2870942, 42.3519101]]], Polygon}, [], United States, US, Dearborn, MI, 339bd7ae6a55ba9f, Dearborn, city, https://api.twitter.com/1.1/geo/id/339bd7ae6a55ba9f.json}                                      |\n",
      "|{{[[[-97.928935, 30.127892], [-97.5805133, 30.127892], [-97.5805133, 30.5187994], [-97.928935, 30.5187994]]], Polygon}, [], United States, US, Austin, TX, c3f37afa9efcf94b, Austin, city, https://api.twitter.com/1.1/geo/id/c3f37afa9efcf94b.json}                                        |\n",
      "+--------------------------------------------------------------------------------------------------------------------------------------------------------------------------------------------------------------------------------------------------------------------------------------------+\n",
      "only showing top 20 rows\n",
      "\n"
     ]
    },
    {
     "name": "stderr",
     "output_type": "stream",
     "text": [
      "                                                                                \r"
     ]
    },
    {
     "data": {
      "text/plain": [
       "'retweet_count'"
      ]
     },
     "metadata": {},
     "output_type": "display_data"
    },
    {
     "name": "stderr",
     "output_type": "stream",
     "text": [
      "[Stage 39:>                                                       (0 + 32) / 32]\r"
     ]
    },
    {
     "name": "stdout",
     "output_type": "stream",
     "text": [
      "+-------------+\n",
      "|retweet_count|\n",
      "+-------------+\n",
      "|           29|\n",
      "|           26|\n",
      "|          191|\n",
      "|           65|\n",
      "|          270|\n",
      "|          243|\n",
      "|           54|\n",
      "|           19|\n",
      "|          296|\n",
      "|            0|\n",
      "|          502|\n",
      "|         2244|\n",
      "|          155|\n",
      "|          113|\n",
      "|          241|\n",
      "|           22|\n",
      "|            7|\n",
      "|           77|\n",
      "|           34|\n",
      "|         1445|\n",
      "+-------------+\n",
      "only showing top 20 rows\n",
      "\n"
     ]
    },
    {
     "name": "stderr",
     "output_type": "stream",
     "text": [
      "                                                                                \r"
     ]
    },
    {
     "data": {
      "text/plain": [
       "'retweeted'"
      ]
     },
     "metadata": {},
     "output_type": "display_data"
    },
    {
     "name": "stdout",
     "output_type": "stream",
     "text": [
      "+---------+\n",
      "|retweeted|\n",
      "+---------+\n",
      "|false    |\n",
      "+---------+\n",
      "\n"
     ]
    },
    {
     "name": "stderr",
     "output_type": "stream",
     "text": [
      "                                                                                \r"
     ]
    },
    {
     "data": {
      "text/plain": [
       "'screenname'"
      ]
     },
     "metadata": {},
     "output_type": "display_data"
    },
    {
     "name": "stderr",
     "output_type": "stream",
     "text": [
      "[Stage 45:=======>                                                (4 + 28) / 32]\r"
     ]
    },
    {
     "name": "stdout",
     "output_type": "stream",
     "text": [
      "+---------------+\n",
      "|screen_name    |\n",
      "+---------------+\n",
      "|CongMikeSimpson|\n",
      "|RepSires       |\n",
      "|JayInslee      |\n",
      "|RepLloydDoggett|\n",
      "|RepSmucker     |\n",
      "|repsandylevin  |\n",
      "|GovernorKayIvey|\n",
      "|davereichert   |\n",
      "|SenStabenow    |\n",
      "|RepLindaSanchez|\n",
      "|RepMikeTurner  |\n",
      "|RepTomReed     |\n",
      "|ConawayTX11    |\n",
      "|RepMcNerney    |\n",
      "|RepMoBrooks    |\n",
      "|RepLouBarletta |\n",
      "|RepPeterDeFazio|\n",
      "|repjimcooper   |\n",
      "|SteveKingIA    |\n",
      "|BennieGThompson|\n",
      "+---------------+\n",
      "only showing top 20 rows\n",
      "\n"
     ]
    },
    {
     "name": "stderr",
     "output_type": "stream",
     "text": [
      "                                                                                \r"
     ]
    },
    {
     "data": {
      "text/plain": [
       "'source'"
      ]
     },
     "metadata": {},
     "output_type": "display_data"
    },
    {
     "name": "stderr",
     "output_type": "stream",
     "text": [
      "[Stage 48:========================>                              (14 + 18) / 32]\r"
     ]
    },
    {
     "name": "stdout",
     "output_type": "stream",
     "text": [
      "+-----------------------------------------------------------------------------------+\n",
      "|source                                                                             |\n",
      "+-----------------------------------------------------------------------------------+\n",
      "|<a href=\"http://www.tumblr.com/\" rel=\"nofollow\">Tumblr</a>                         |\n",
      "|<a href=\"http://www.cloudhopper.com/\" rel=\"nofollow\">Cloudhopper</a>               |\n",
      "|<a href=\"http://twitterfeed.com\" rel=\"nofollow\">twitterfeed</a>                    |\n",
      "|<a href=\"http://twitter.com/#!/download/ipad\" rel=\"nofollow\">Twitter for iPad</a>  |\n",
      "|<a href=\"http://www.telly.com\" rel=\"nofollow\">TellyApp</a>                         |\n",
      "|<a href=\"http://www.tweetcaster.com\" rel=\"nofollow\">TweetCaster</a>                |\n",
      "|<a href=\"http://www.huffingtonpost.com\" rel=\"nofollow\">The Huffington Post</a>     |\n",
      "|<a href=\"http://twtpoll.com\" rel=\"nofollow\">Twtpoll by 63 Squares</a>              |\n",
      "|<a href=\"http://ping.fm/\" rel=\"nofollow\">Ping.fm</a>                               |\n",
      "|<a href=\"http://act.ly/\" rel=\"nofollow\">act.ly</a>                                 |\n",
      "|<a href=\"http://sproutsocial.com\" rel=\"nofollow\">Sprout Social</a>                 |\n",
      "|<a href=\"http://www.linkedin.com/\" rel=\"nofollow\">LinkedIn</a>                     |\n",
      "|<a href=\"http://wefollow.com\" rel=\"nofollow\">Wefollow</a>                          |\n",
      "|<a href=\"http://bit.ly/yfrogapp\" rel=\"nofollow\">yFrog Uploader for iPhone</a>      |\n",
      "|<a href=\"http://www.apple.com\" rel=\"nofollow\">Safari on iOS</a>                    |\n",
      "|<a href=\"http://www.apple.com\" rel=\"nofollow\">Camera on iOS</a>                    |\n",
      "|<a href=\"http://www.twitresponse.com/\" rel=\"nofollow\">TwitResponse</a>             |\n",
      "|<a href=\"http://seesmic.com/seesmic_desktop/sd2\" rel=\"nofollow\">Seesmic Desktop</a>|\n",
      "|<a href=\"http://twibbon.com\" rel=\"nofollow\">Twibbon</a>                            |\n",
      "|<a href=\"http://stone.com/Twittelator\" rel=\"nofollow\">Twittelator</a>              |\n",
      "+-----------------------------------------------------------------------------------+\n",
      "only showing top 20 rows\n",
      "\n"
     ]
    },
    {
     "name": "stderr",
     "output_type": "stream",
     "text": [
      "                                                                                \r"
     ]
    },
    {
     "data": {
      "text/plain": [
       "'withheld_copyright'"
      ]
     },
     "metadata": {},
     "output_type": "display_data"
    },
    {
     "name": "stderr",
     "output_type": "stream",
     "text": [
      "[Stage 51:======================================================> (31 + 1) / 32]\r"
     ]
    },
    {
     "name": "stdout",
     "output_type": "stream",
     "text": [
      "+------------------+\n",
      "|withheld_copyright|\n",
      "+------------------+\n",
      "|null              |\n",
      "|true              |\n",
      "+------------------+\n",
      "\n"
     ]
    },
    {
     "name": "stderr",
     "output_type": "stream",
     "text": [
      "                                                                                \r"
     ]
    },
    {
     "data": {
      "text/plain": [
       "'withheld_in_countries'"
      ]
     },
     "metadata": {},
     "output_type": "display_data"
    },
    {
     "name": "stderr",
     "output_type": "stream",
     "text": [
      "[Stage 54:========>                                               (5 + 27) / 32]\r"
     ]
    },
    {
     "name": "stdout",
     "output_type": "stream",
     "text": [
      "+---------------------+\n",
      "|withheld_in_countries|\n",
      "+---------------------+\n",
      "|null                 |\n",
      "|[XY]                 |\n",
      "+---------------------+\n",
      "\n"
     ]
    },
    {
     "name": "stderr",
     "output_type": "stream",
     "text": [
      "                                                                                \r"
     ]
    },
    {
     "data": {
      "text/plain": [
       "'withheld_scope'"
      ]
     },
     "metadata": {},
     "output_type": "display_data"
    },
    {
     "name": "stderr",
     "output_type": "stream",
     "text": [
      "[Stage 57:==================================================>     (29 + 3) / 32]\r"
     ]
    },
    {
     "name": "stdout",
     "output_type": "stream",
     "text": [
      "+--------------+\n",
      "|withheld_scope|\n",
      "+--------------+\n",
      "|null          |\n",
      "|status        |\n",
      "+--------------+\n",
      "\n"
     ]
    },
    {
     "name": "stderr",
     "output_type": "stream",
     "text": [
      "                                                                                \r"
     ]
    },
    {
     "data": {
      "text/plain": [
       "'text'"
      ]
     },
     "metadata": {},
     "output_type": "display_data"
    },
    {
     "name": "stdout",
     "output_type": "stream",
     "text": [
      "+------------------------------------------------------------------------------------------------------------------------------------------+\n",
      "|text                                                                                                                                      |\n",
      "+------------------------------------------------------------------------------------------------------------------------------------------+\n",
      "|On a conference call about a weekend trip to Iraq to visit Arkansas troops                                                                |\n",
      "|Being interviewed by KTHV                                                                                                                 |\n",
      "|Being interviewed by KARN on his Arkansas World Trade Center trip                                                                         |\n",
      "|On KWHN in Fort Smith, that's 1320 AM                                                                                                     |\n",
      "|Attending a Military of the Purple Heart Ceremony at the VA Medical Center in Fayetteville                                                |\n",
      "|Touring Helath South Hospital in Fayetteville                                                                                             |\n",
      "|conducting a veterans affairs economic opportunity subcommittee field hearing at the northwest arkansas community college                 |\n",
      "|doing an interview on kurm radio                                                                                                          |\n",
      "|Meeting with Emergency Management officials from Johnson, Pope and Franklin counties                                                      |\n",
      "|Listening to constituents at a roundtable discussion about gas prices in Flippin                                                          |\n",
      "|attending the GOP convention                                                                                                              |\n",
      "|Joining the Twitter conversation at #rnc08. Trying to link up the blackberry for tonight. Live from St. Paul.                             |\n",
      "|Attending a Transportation and Infrastructure Committee Hearing on H.R. 6707, the \"Taking Responsible Action for Community Safety Act\"    |\n",
      "|Attending a Foreign Relations Committee Hearing on US-Russia Relations in the Aftermath of the Georgia Crisis                             |\n",
      "|Voting                                                                                                                                    |\n",
      "|Attending a Joint Hearing of the VA Committee                                                                                             |\n",
      "|Voting on Adoption of the Rule to provide consideration for H.R. 6842 - National Capital Security and Safety Act                          |\n",
      "|Attending a Whip Team meeting                                                                                                             |\n",
      "|Attending a Water Resources Subcommittee Hearing                                                                                          |\n",
      "|I've launched porkparade.com to spread the movement to stop earmarks. Hope you'll check it out and contribute to the movement using #pork.|\n",
      "+------------------------------------------------------------------------------------------------------------------------------------------+\n",
      "only showing top 20 rows\n",
      "\n"
     ]
    }
   ],
   "source": [
    "display('contributors')\n",
    "tweets_df.select(\"contributors\").distinct().show(truncate=False)\n",
    "display('coordinates')\n",
    "tweets_df.select('coordinates').distinct().show(truncate=False)\n",
    "display('entities')\n",
    "tweets_df.select(\"entities\").distinct().show(truncate=False)\n",
    "display('extended_entities')\n",
    "tweets_df.select(['extended_entities']).distinct().show(truncate=False)\n",
    "display('favorite_count')\n",
    "tweets_df.select(['favorite_count']).distinct().show(truncate=False)\n",
    "display('favorited')\n",
    "tweets_df.select(['favorited']).distinct().show(truncate=False)\n",
    "display('in_reply_to_screen_name')\n",
    "tweets_df.select(['in_reply_to_screen_name']).distinct().show(truncate=False)\n",
    "display('in_reply_to_status_id')\n",
    "tweets_df.select('in_reply_to_status_id').distinct().show(truncate=False)\n",
    "display('in_reply_to_user_id')\n",
    "tweets_df.select('in_reply_to_user_id').distinct().show(truncate=False)\n",
    "display('is_quote_status')\n",
    "tweets_df.select('is_quote_status').distinct().show(truncate=False)\n",
    "display('lang')\n",
    "tweets_df.select('lang').distinct().show(truncate=False)\n",
    "display('place')\n",
    "tweets_df.select('place').distinct().show(truncate=False)\n",
    "display('retweet_count')\n",
    "tweets_df.select('retweet_count').distinct().show()\n",
    "display('retweeted')\n",
    "tweets_df.select('retweeted').distinct().show(truncate=False)\n",
    "display('screenname')\n",
    "tweets_df.select('screen_name').distinct().show(truncate=False)\n",
    "display('source')\n",
    "tweets_df.select('source').distinct().show(truncate=False)\n",
    "display('withheld_copyright')\n",
    "tweets_df.select('withheld_copyright').distinct().show(truncate=False)\n",
    "display('withheld_in_countries')\n",
    "tweets_df.select('withheld_in_countries').distinct().show(truncate=False)\n",
    "display('withheld_scope')\n",
    "tweets_df.select('withheld_scope').distinct().show(truncate=False)\n",
    "display('text')\n",
    "tweets_df.select('text').show(truncate=False)"
   ]
  },
  {
   "cell_type": "code",
   "execution_count": 13,
   "metadata": {},
   "outputs": [],
   "source": [
    "from pyspark.sql.functions import regexp_extract,col \n",
    "\n",
    "tweets_df_2 = tweets_df.withColumn('hashtags', regexp_extract(col('text'), '#\\w+',0))\n",
    "tweets_df_3 = tweets_df_2.withColumn('right_at', regexp_extract(col('text'), '@\\w+',0))"
   ]
  },
  {
   "cell_type": "code",
   "execution_count": 15,
   "metadata": {},
   "outputs": [
    {
     "name": "stdout",
     "output_type": "stream",
     "text": [
      "+--------+\n",
      "|hashtags|\n",
      "+--------+\n",
      "|        |\n",
      "|        |\n",
      "|        |\n",
      "|        |\n",
      "|        |\n",
      "|        |\n",
      "|        |\n",
      "|        |\n",
      "|        |\n",
      "|        |\n",
      "|        |\n",
      "|#rnc08  |\n",
      "|        |\n",
      "|        |\n",
      "|        |\n",
      "|        |\n",
      "|        |\n",
      "|        |\n",
      "|        |\n",
      "|#pork   |\n",
      "+--------+\n",
      "only showing top 20 rows\n",
      "\n",
      "+----------------+\n",
      "|right_at        |\n",
      "+----------------+\n",
      "|                |\n",
      "|                |\n",
      "|                |\n",
      "|                |\n",
      "|                |\n",
      "|                |\n",
      "|                |\n",
      "|                |\n",
      "|                |\n",
      "|                |\n",
      "|                |\n",
      "|                |\n",
      "|                |\n",
      "|                |\n",
      "|                |\n",
      "|                |\n",
      "|                |\n",
      "|                |\n",
      "|                |\n",
      "|                |\n",
      "|                |\n",
      "|                |\n",
      "|                |\n",
      "|                |\n",
      "|                |\n",
      "|                |\n",
      "|                |\n",
      "|                |\n",
      "|                |\n",
      "|                |\n",
      "|                |\n",
      "|                |\n",
      "|                |\n",
      "|                |\n",
      "|                |\n",
      "|                |\n",
      "|                |\n",
      "|                |\n",
      "|                |\n",
      "|                |\n",
      "|                |\n",
      "|                |\n",
      "|                |\n",
      "|                |\n",
      "|                |\n",
      "|                |\n",
      "|                |\n",
      "|                |\n",
      "|                |\n",
      "|                |\n",
      "|                |\n",
      "|                |\n",
      "|                |\n",
      "|                |\n",
      "|                |\n",
      "|                |\n",
      "|                |\n",
      "|                |\n",
      "|                |\n",
      "|                |\n",
      "|                |\n",
      "|                |\n",
      "|                |\n",
      "|                |\n",
      "|                |\n",
      "|                |\n",
      "|                |\n",
      "|                |\n",
      "|                |\n",
      "|                |\n",
      "|                |\n",
      "|                |\n",
      "|                |\n",
      "|                |\n",
      "|                |\n",
      "|                |\n",
      "|                |\n",
      "|                |\n",
      "|                |\n",
      "|                |\n",
      "|@AlanBarber     |\n",
      "|@boblatta       |\n",
      "|@club4growth    |\n",
      "|@michaelpleahy  |\n",
      "|                |\n",
      "|                |\n",
      "|@penneymarie    |\n",
      "|@mike_ware      |\n",
      "|                |\n",
      "|                |\n",
      "|@kenblackwell   |\n",
      "|@michelebachmann|\n",
      "|@james_barnes   |\n",
      "|@kevinomccarthy |\n",
      "|                |\n",
      "|                |\n",
      "|                |\n",
      "|                |\n",
      "|                |\n",
      "|@DoubleTap      |\n",
      "+----------------+\n",
      "only showing top 100 rows\n",
      "\n"
     ]
    }
   ],
   "source": [
    "tweets_df_3.select('hashtags').show(truncate=False)\n",
    "tweets_df_3.select('right_at').show(100, truncate=False)"
   ]
  },
  {
   "cell_type": "code",
   "execution_count": 5,
   "metadata": {},
   "outputs": [
    {
     "name": "stdout",
     "output_type": "stream",
     "text": [
      "+--------------------+----------+---------------+---------------------+--------------------+--------------------+----------------+-------------------+---------------+---------+-------------+-----------+--------------------+----------+----------+----------------------+-------------+----+------------+--------------------+--------------------+-------------+------------------------+----------------------------+----------------------------------+-----------------------+--------------------+--------------------+-----------------------+------------------+----------------------------+--------------------------+------------------+----------------------------+---------+---------------+--------------+--------------------+---------------+--------------------+----------+--------+\n",
      "|contributors_enabled|created_at|default_profile|default_profile_image|         description|            entities|favourites_count|follow_request_sent|followers_count|following|friends_count|geo_enabled|has_extended_profile|        id|    id_str|is_translation_enabled|is_translator|lang|listed_count|            location|                name|notifications|profile_background_color|profile_background_image_url|profile_background_image_url_https|profile_background_tile|  profile_banner_url|   profile_image_url|profile_image_url_https|profile_link_color|profile_sidebar_border_color|profile_sidebar_fill_color|profile_text_color|profile_use_background_image|protected|    screen_name|statuses_count|           time_zone|translator_type|                 url|utc_offset|verified|\n",
      "+--------------------+----------+---------------+---------------------+--------------------+--------------------+----------------+-------------------+---------------+---------+-------------+-----------+--------------------+----------+----------+----------------------+-------------+----+------------+--------------------+--------------------+-------------+------------------------+----------------------------+----------------------------------+-----------------------+--------------------+--------------------+-----------------------+------------------+----------------------------+--------------------------+------------------+----------------------------+---------+---------------+--------------+--------------------+---------------+--------------------+----------+--------+\n",
      "|               false|1417384037|           true|                false|Official Twitter ...|{{[]}, {[{gov.ala...|             115|              false|           5870|    false|          550|       true|               false|2915095729|2915095729|                 false|        false|  en|         190|              Alaska|Governor Bill Walker|        false|                  C0DEED|        http://abs.twimg....|              https://abs.twimg...|                  false|https://pbs.twimg...|http://pbs.twimg....|   https://pbs.twimg...|            1DA1F2|                      C0DEED|                    DDEEF6|            333333|                        true|    false|AkGovBillWalker|          1642|                null|           none|http://t.co/NO67L...|      null|    true|\n",
      "|               false|1240239576|          false|                false|U.S. Senator from...|{{[]}, {[{amyklob...|              24|              false|         170717|    false|        91751|      false|               false|  33537967|  33537967|                 false|        false|  en|        2493|                    |       Amy Klobuchar|        false|                  026113|        http://abs.twimg....|              https://abs.twimg...|                  false|                null|http://pbs.twimg....|   https://pbs.twimg...|            026113|                      F6D73F|                    89BCEE|            3D3C3D|                        true|    false|   amyklobuchar|          5567|Central Time (US ...|           none|http://t.co/mGGFB...|    -18000|    true|\n",
      "|               false|1366837593|          false|                false|Congressman for M...|{{[]}, {[{anthony...|              90|              false|           6067|    false|          369|       true|                true|1378000346|1378000346|                 false|        false|  en|         170|   Mitchellville, MD|    Anthony G. Brown|        false|                  184466|        http://pbs.twimg....|              https://pbs.twimg...|                   true|https://pbs.twimg...|http://pbs.twimg....|   https://pbs.twimg...|            6B2E13|                      FFFFFF|                    DDEEF6|            333333|                       false|    false|AnthonyBrownMD4|          1878|Eastern Time (US ...|           none|https://t.co/NYPW...|    -14400|    true|\n",
      "|               false|1300739574|          false|                false|Husband of 43 yrs...|{{[]}, {[{governo...|             440|              false|          25747|    false|          598|       true|                true| 269992801| 269992801|                 false|        false|  en|         420|           Arkansas | Gov. Asa Hutchinson|        false|                  C0DEED|        http://pbs.twimg....|              https://pbs.twimg...|                  false|https://pbs.twimg...|http://pbs.twimg....|   https://pbs.twimg...|            0084B4|                      FFFFFF|                    DDEEF6|            333333|                       false|    false|  AsaHutchinson|          3778|Central Time (US ...|           none|https://t.co/b38C...|    -18000|    true|\n",
      "|               false|1294329706|          false|                false|I am proud to rep...|{{[]}, {[{austins...|              12|              false|          13048|    false|          313|       true|               false| 234797704| 234797704|                 false|        false|  en|         735|         Ashburn, GA|   Rep. Austin Scott|        false|                  11172E|        http://pbs.twimg....|              https://pbs.twimg...|                  false|https://pbs.twimg...|http://pbs.twimg....|   https://pbs.twimg...|            11172E|                      11172E|                    CCCDDB|            11172E|                        true|    false|AustinScottGA08|          2022|                null|           none|http://t.co/GQwXI...|      null|    true|\n",
      "|               false|1255553223|           true|                false|                    |{{[]}, {[{benniet...|              27|              false|           6707|    false|          428|      false|               false|  82453460|  82453460|                 false|        false|  en|         484| Bolton, Mississippi|        RepBThompson|        false|                  C0DEED|        http://abs.twimg....|              https://abs.twimg...|                  false|https://pbs.twimg...|http://pbs.twimg....|   https://pbs.twimg...|            1DA1F2|                      C0DEED|                    DDEEF6|            333333|                        true|    false|BennieGThompson|           756|Eastern Time (US ...|           none|http://t.co/POCpy...|    -14400|    true|\n",
      "|               false|1247263375|          false|                false|U.S. Senator for ...|{{[]}, {[{billcas...|              80|              false|          20716|    false|         1187|       true|               false|  55677432|  55677432|                 false|        false|  en|        1257|     Baton Rouge, LA|        Bill Cassidy|        false|                  CCCCCC|        http://pbs.twimg....|              https://pbs.twimg...|                   true|https://pbs.twimg...|http://pbs.twimg....|   https://pbs.twimg...|            666666|                      000000|                    333333|            999999|                       false|    false|    BillCassidy|          4526|Central Time (US ...|           none|http://t.co/jJ1FD...|    -18000|    true|\n",
      "|               false|1237846326|          false|                false|Governor of Tenne...|{{[]}, {[{tn.gov/...|              25|              false|          70622|    false|         7851|      false|               false|  26103389|  26103389|                 false|        false|  en|        1209|           Tennessee|    Gov. Bill Haslam|        false|                  131516|        http://abs.twimg....|              https://abs.twimg...|                   true|https://pbs.twimg...|http://pbs.twimg....|   https://pbs.twimg...|            009999|                      EEEEEE|                    EFEFEF|            333333|                       false|    false|     BillHaslam|          1649|Central Time (US ...|           none|http://t.co/1Pyg2...|    -18000|    true|\n",
      "|               false|1215801204|          false|                false|Representing #OH5...|{{[]}, {[{latta.h...|             468|              false|          29159|    false|         5854|       true|               false|  15394954|  15394954|                 false|        false|  en|        1267|ÜT: 41.052377,-82...| U.S. Rep. Bob Latta|        false|                  4F4F4F|        http://pbs.twimg....|              https://pbs.twimg...|                  false|https://pbs.twimg...|http://pbs.twimg....|   https://pbs.twimg...|            3B94D9|                      550000|                    B2CEED|            333333|                        true|    false|       boblatta|          5785|Eastern Time (US ...|           none|http://t.co/dSKBc...|    -14400|    true|\n",
      "|               false|1239370683|          false|                false|Proudly serving C...|{{[]}, {[{BradShe...|               0|              false|          23126|    false|          512|      false|               false|  30216513|  30216513|                 false|        false|  en|         912|    Sherman Oaks, CA|   Rep. Brad Sherman|        false|                  022330|        http://abs.twimg....|              https://abs.twimg...|                  false|https://pbs.twimg...|http://pbs.twimg....|   https://pbs.twimg...|            1B95E0|                      A8C7F7|                    C0DFEC|            333333|                       false|    false|    BradSherman|          1117|Pacific Time (US ...|           none|https://t.co/SyFU...|    -25200|    true|\n",
      "+--------------------+----------+---------------+---------------------+--------------------+--------------------+----------------+-------------------+---------------+---------+-------------+-----------+--------------------+----------+----------+----------------------+-------------+----+------------+--------------------+--------------------+-------------+------------------------+----------------------------+----------------------------------+-----------------------+--------------------+--------------------+-----------------------+------------------+----------------------------+--------------------------+------------------+----------------------------+---------+---------------+--------------+--------------------+---------------+--------------------+----------+--------+\n",
      "only showing top 10 rows\n",
      "\n"
     ]
    }
   ],
   "source": [
    "users_df.show(10)\n"
   ]
  },
  {
   "cell_type": "code",
   "execution_count": 6,
   "metadata": {},
   "outputs": [
    {
     "data": {
      "text/plain": [
       "'contributors enables'"
      ]
     },
     "metadata": {},
     "output_type": "display_data"
    },
    {
     "name": "stdout",
     "output_type": "stream",
     "text": [
      "+--------------------+\n",
      "|contributors_enabled|\n",
      "+--------------------+\n",
      "|false               |\n",
      "+--------------------+\n",
      "\n"
     ]
    },
    {
     "data": {
      "text/plain": [
       "'default profile'"
      ]
     },
     "metadata": {},
     "output_type": "display_data"
    },
    {
     "name": "stdout",
     "output_type": "stream",
     "text": [
      "+---------------+\n",
      "|default_profile|\n",
      "+---------------+\n",
      "|true           |\n",
      "|false          |\n",
      "+---------------+\n",
      "\n"
     ]
    },
    {
     "data": {
      "text/plain": [
       "'description'"
      ]
     },
     "metadata": {},
     "output_type": "display_data"
    },
    {
     "name": "stdout",
     "output_type": "stream",
     "text": [
      "+----------------------------------------------------------------------------------------------------------------------------------------------------------------+\n",
      "|description                                                                                                                                                     |\n",
      "+----------------------------------------------------------------------------------------------------------------------------------------------------------------+\n",
      "|Proud to represent Kansans in the United States Senate                                                                                                          |\n",
      "|R-OH https://t.co/2BckMkGpZV                                                                                                                                    |\n",
      "|New York's 12th Congressional District - Manhattan, Brooklyn & Queens                                                                                           |\n",
      "|U.S. Senator from the State of Oregon. Instagram: https://t.co/pECsFBm1G1                                                                                       |\n",
      "|45th President of the United States of America                                                                                                                  |\n",
      "|Progressive Democrat proudly representing the #EastBay CA-13 in Congress. Working to promote economic & racial justice, peace & human rights in the US & abroad.|\n",
      "|Member of Congress representing the First Congressional District of Connecticut.                                                                                |\n",
      "|Husband, father, and U.S. Representative for the 6th District of Illinois. I serve as @WaysandMeansGOP Tax Policy Chairman in the 115th Congress.               |\n",
      "|Honored To Represent Virginia’s 10th Congressional District. Attorney • Legislator • Mom                                                                        |\n",
      "|Representative from Florida's 21st Congressional District                                                                                                       |\n",
      "|Member of Congress, proudly representing the 7th District of Colorado https://t.co/wLRJaGd9rX                                                                   |\n",
      "|Serving the First Congressional District of Massachusetts in the United States House of Representatives, with 87 cities and towns in western & central MA       |\n",
      "|U.S. Congressman proudly serving the 31st District of Texas. Former Judge. Proud @TexasTech Red Raider.                                                         |\n",
      "|Official Twitter account of U.S. Senator Kamala Harris.                                                                                                         |\n",
      "|Official Twitter page for Governor John Carney.                                                                                                                 |\n",
      "|The official Twitter account of Congressman Frank Pallone, Jr. (D), of New Jersey's 6th district, Ranking Member of @EnergyCommerce Committee.                  |\n",
      "|Official news and updates from Congressman David Kustoff (R-Tenn.), Proudly serving the 8th District of Tennessee                                               |\n",
      "|U.S. Representative for the Seventh District of Georgia, and serving as Chairman of the Rules Subcommittee on Legislative & Budget Process.                     |\n",
      "|I'm honored to serve as the Congressman for California's Central Coast (CA-20) in the U.S. House of Representatives.                                            |\n",
      "|U.S. Representative for New Jersey's 8th Congressional District                                                                                                 |\n",
      "+----------------------------------------------------------------------------------------------------------------------------------------------------------------+\n",
      "only showing top 20 rows\n",
      "\n"
     ]
    },
    {
     "data": {
      "text/plain": [
       "'entities'"
      ]
     },
     "metadata": {},
     "output_type": "display_data"
    },
    {
     "name": "stdout",
     "output_type": "stream",
     "text": [
      "+-----------------------------------------------------------------------------------------------------------------------------+\n",
      "|entities                                                                                                                     |\n",
      "+-----------------------------------------------------------------------------------------------------------------------------+\n",
      "|{{[]}, {[{simpson.house.gov, http://www.simpson.house.gov, [0, 22], http://t.co/lRNTKPfcmE}]}}                               |\n",
      "|{{[]}, {[{facebook.com/CongressmanGKB…, http://www.facebook.com/CongressmanGKButterfield, [0, 22], http://t.co/0Be8EM6qOP}]}}|\n",
      "|{{[]}, {[{sessions.house.gov, http://sessions.house.gov, [0, 22], http://t.co/ZbESaBtE5q}]}}                                 |\n",
      "|{{[]}, {[{lobiondo.house.gov, http://www.lobiondo.house.gov, [0, 22], http://t.co/eXru2mhvIf}]}}                             |\n",
      "|{{[]}, {[{isakson.senate.gov, http://www.isakson.senate.gov, [0, 22], http://t.co/n3mMYfmg5C}]}}                             |\n",
      "|{{[]}, {[{lawrence.house.gov, https://lawrence.house.gov/, [0, 23], https://t.co/jik2CxOIWT}]}}                              |\n",
      "|{{[]}, {[{mchenry.house.gov, http://mchenry.house.gov/, [0, 22], http://t.co/fKHDu4b6V5}]}}                                  |\n",
      "|{{[]}, {[{coffman.house.gov, http://coffman.house.gov, [0, 23], https://t.co/WxboE0uaqn}]}}                                  |\n",
      "|{{[]}, {[{tomgraves.house.gov, http://tomgraves.house.gov/, [0, 23], https://t.co/cRm0yQ6DOY}]}}                             |\n",
      "|{{[]}, {[{scott.senate.gov, http://scott.senate.gov, [0, 23], https://t.co/EoB6giYuOp}]}}                                    |\n",
      "|{{[]}, {[{pallone.house.gov, http://pallone.house.gov, [0, 22], http://t.co/YkjqVYrbQ7}]}}                                   |\n",
      "|{{[]}, {[{kind.house.gov, http://www.kind.house.gov, [0, 22], http://t.co/SLDLcEvDEk}]}}                                     |\n",
      "|{{[]}, {[{shimkus.house.gov, http://shimkus.house.gov, [0, 23], https://t.co/mFzyexaRq4}]}}                                  |\n",
      "|{{[]}, {[{lee.senate.gov, http://www.lee.senate.gov, [0, 22], http://t.co/WnT9wNOtNT}]}}                                     |\n",
      "|{{[]}, {[{curbelo.house.gov, https://curbelo.house.gov/, [0, 23], https://t.co/QxJpDQmah9}]}}                                |\n",
      "|{{[]}, {[{renacci.house.gov, http://renacci.house.gov/, [0, 23], https://t.co/LsCk9OUjWm}]}}                                 |\n",
      "|{{[]}, {[{demings.house.gov, http://demings.house.gov, [0, 23], https://t.co/9DRF1GBZ3J}]}}                                  |\n",
      "|{{[]}, {[{menendez.senate.gov, http://menendez.senate.gov, [0, 22], http://t.co/k4dLi6HYYJ}]}}                               |\n",
      "|{{[]}, {[{facebook.com/ScottDesJarlai…, http://www.facebook.com/ScottDesJarlaisTN04, [0, 22], http://t.co/omXrQSGbn2}]}}     |\n",
      "|{{[]}, {[{governor.ct.gov, http://governor.ct.gov, [0, 23], https://t.co/cuOd0P1LeV}]}}                                      |\n",
      "+-----------------------------------------------------------------------------------------------------------------------------+\n",
      "only showing top 20 rows\n",
      "\n"
     ]
    },
    {
     "data": {
      "text/plain": [
       "'follow_request_sent'"
      ]
     },
     "metadata": {},
     "output_type": "display_data"
    },
    {
     "name": "stdout",
     "output_type": "stream",
     "text": [
      "+-------------------+\n",
      "|follow_request_sent|\n",
      "+-------------------+\n",
      "|false              |\n",
      "+-------------------+\n",
      "\n"
     ]
    },
    {
     "data": {
      "text/plain": [
       "'following'"
      ]
     },
     "metadata": {},
     "output_type": "display_data"
    },
    {
     "name": "stdout",
     "output_type": "stream",
     "text": [
      "+---------+\n",
      "|following|\n",
      "+---------+\n",
      "|true     |\n",
      "|false    |\n",
      "+---------+\n",
      "\n"
     ]
    },
    {
     "data": {
      "text/plain": [
       "'is translation enabled'"
      ]
     },
     "metadata": {},
     "output_type": "display_data"
    },
    {
     "name": "stdout",
     "output_type": "stream",
     "text": [
      "+----------------------+\n",
      "|is_translation_enabled|\n",
      "+----------------------+\n",
      "|true                  |\n",
      "|false                 |\n",
      "+----------------------+\n",
      "\n"
     ]
    },
    {
     "data": {
      "text/plain": [
       "'is translator'"
      ]
     },
     "metadata": {},
     "output_type": "display_data"
    },
    {
     "name": "stdout",
     "output_type": "stream",
     "text": [
      "+-------------+\n",
      "|is_translator|\n",
      "+-------------+\n",
      "|false        |\n",
      "+-------------+\n",
      "\n"
     ]
    },
    {
     "data": {
      "text/plain": [
       "'lang'"
      ]
     },
     "metadata": {},
     "output_type": "display_data"
    },
    {
     "name": "stdout",
     "output_type": "stream",
     "text": [
      "+----+\n",
      "|lang|\n",
      "+----+\n",
      "|en  |\n",
      "+----+\n",
      "\n"
     ]
    },
    {
     "data": {
      "text/plain": [
       "'url'"
      ]
     },
     "metadata": {},
     "output_type": "display_data"
    },
    {
     "name": "stdout",
     "output_type": "stream",
     "text": [
      "+-----------------------+\n",
      "|url                    |\n",
      "+-----------------------+\n",
      "|http://t.co/NO67LyZvUR |\n",
      "|http://t.co/mGGFBfggto |\n",
      "|https://t.co/NYPWOVmoAx|\n",
      "|https://t.co/b38CUNlZHi|\n",
      "|http://t.co/GQwXIhub9a |\n",
      "|http://t.co/POCpyzRcHb |\n",
      "|http://t.co/jJ1FDxCJeE |\n",
      "|http://t.co/1Pyg2hlmVg |\n",
      "|http://t.co/dSKBcpo6FL |\n",
      "|https://t.co/SyFUwfPtR8|\n",
      "+-----------------------+\n",
      "only showing top 10 rows\n",
      "\n"
     ]
    },
    {
     "data": {
      "text/plain": [
       "'verified'"
      ]
     },
     "metadata": {},
     "output_type": "display_data"
    },
    {
     "name": "stdout",
     "output_type": "stream",
     "text": [
      "+--------+\n",
      "|verified|\n",
      "+--------+\n",
      "|true    |\n",
      "|false   |\n",
      "+--------+\n",
      "\n"
     ]
    }
   ],
   "source": [
    "display('contributors enables')\n",
    "users_df.select('contributors_enabled').distinct().show(truncate=False)\n",
    "display('default profile')\n",
    "users_df.select('default_profile').distinct().show(truncate=False)\n",
    "display('description')\n",
    "users_df.select('description').distinct().show(truncate=False)\n",
    "display('entities')\n",
    "users_df.select('entities').distinct().show(truncate=False)\n",
    "display('follow_request_sent')\n",
    "users_df.select('follow_request_sent').distinct().show(truncate=False)\n",
    "display('following')\n",
    "users_df.select('following').distinct().show(truncate=False)\n",
    "display('is translation enabled')\n",
    "users_df.select('is_translation_enabled').distinct().show(truncate=False)\n",
    "display('is translator')\n",
    "users_df.select('is_translator').distinct().show(truncate=False)\n",
    "display('lang')\n",
    "users_df.select('lang').distinct().show(truncate=False)\n",
    "display('url')\n",
    "users_df.select('url').show(10, truncate=False)\n",
    "display('verified')\n",
    "users_df.select('verified').distinct().show(10, truncate=False)\n"
   ]
  },
  {
   "cell_type": "code",
   "execution_count": null,
   "metadata": {},
   "outputs": [],
   "source": [
    "tweets_df"
   ]
  },
  {
   "cell_type": "code",
   "execution_count": 7,
   "metadata": {},
   "outputs": [],
   "source": [
    "tweets_df()\n",
    "\n",
    "\n",
    "import numpy as np\n",
    "import pandas as pd\n",
    "\n",
    "#tweets_df = pd.read_json('../capstone_data/tweets.json', lines=True)\n",
    "#users_df = pd.read_json('../capstone_data/users.json', lines=True)\n",
    "\n"
   ]
  },
  {
   "cell_type": "code",
   "execution_count": null,
   "metadata": {},
   "outputs": [],
   "source": []
  },
  {
   "cell_type": "markdown",
   "metadata": {},
   "source": []
  },
  {
   "cell_type": "code",
   "execution_count": 8,
   "metadata": {},
   "outputs": [],
   "source": [
    "#This cell will not run because there is an unsupported data type in the data.\n",
    "#pandassql will not run a SELECT * from tweets_df\n",
    "\n",
    "#from pandasql import sqldf\n",
    "\n",
    "#pysqldf = lambda q: sqldf(q, globals())\n",
    "#pysqldf(\"SELECT * FROM tweets_df;\") "
   ]
  },
  {
   "cell_type": "code",
   "execution_count": 9,
   "metadata": {},
   "outputs": [],
   "source": [
    "#display(tweets_df.info())\n",
    "#display(tweets_df.describe())\n",
    "#display(tweets_df.head())\n",
    "#display(tweets_df.iloc[0,:])\n",
    "#display(tweets_df.iloc[0,:].entities)\n",
    "#display(tweets_df.iloc[0,:].source)"
   ]
  },
  {
   "cell_type": "code",
   "execution_count": 10,
   "metadata": {},
   "outputs": [],
   "source": [
    "#users_df.show(10)"
   ]
  },
  {
   "cell_type": "markdown",
   "metadata": {},
   "source": [
    "Questions to ask of the data\n",
    "\n",
    "1.) What are the schemas of each of the fields that are objects?\n",
    "\n",
    "2.) Collect userids and display names of the individual users.\n",
    "\n",
    "3.) How does one metrize what it means to be influential as a twitter user: retweets, a social network of tweets, volume of tweets overall, sentiment of tweets, etc..\n",
    "\n",
    "4.) "
   ]
  },
  {
   "cell_type": "code",
   "execution_count": 11,
   "metadata": {},
   "outputs": [
    {
     "data": {
      "text/plain": [
       "'r = '"
      ]
     },
     "metadata": {},
     "output_type": "display_data"
    },
    {
     "data": {
      "text/plain": [
       "6366197.7236758135"
      ]
     },
     "metadata": {},
     "output_type": "display_data"
    },
    {
     "data": {
      "text/plain": [
       "'mass_earth '"
      ]
     },
     "metadata": {},
     "output_type": "display_data"
    },
    {
     "data": {
      "text/plain": [
       "5.932077753865078e+24"
      ]
     },
     "metadata": {},
     "output_type": "display_data"
    },
    {
     "data": {
      "text/plain": [
       "1.0630963716604082e+26"
      ]
     },
     "metadata": {},
     "output_type": "display_data"
    },
    {
     "data": {
      "text/plain": [
       "6.401966350138979e+49"
      ]
     },
     "metadata": {},
     "output_type": "display_data"
    }
   ],
   "source": [
    "import math\n",
    "\n",
    "r = 1000*(25000 * (8/5)) / (2 * math.pi)\n",
    "g = 6.7 * math.pow(10,-11)\n",
    "display(\"r = \",r)\n",
    "\n",
    "mass_earth = 1312.23 * r * r / (g * 133.81)\n",
    "display(\"mass_earth \", mass_earth)\n",
    "moles = mass_earth / (0.0558)\n",
    "display(moles)\n",
    "atoms = moles * (6.022 * math.pow(10,23))\n",
    "display(atoms)\n",
    "\n"
   ]
  },
  {
   "cell_type": "code",
   "execution_count": null,
   "metadata": {},
   "outputs": [],
   "source": []
  }
 ],
 "metadata": {
  "kernelspec": {
   "display_name": "Python 3",
   "language": "python",
   "name": "python3"
  },
  "language_info": {
   "codemirror_mode": {
    "name": "ipython",
    "version": 3
   },
   "file_extension": ".py",
   "mimetype": "text/x-python",
   "name": "python",
   "nbconvert_exporter": "python",
   "pygments_lexer": "ipython3",
   "version": "3.11.5"
  }
 },
 "nbformat": 4,
 "nbformat_minor": 2
}
